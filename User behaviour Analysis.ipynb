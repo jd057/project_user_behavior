{
 "cells": [
  {
   "cell_type": "code",
   "execution_count": 5,
   "id": "e30bb9e0",
   "metadata": {},
   "outputs": [],
   "source": [
    "# Let's import the modules we need and the data\n",
    "\n",
    "import time\n",
    "import pandas as pd\n",
    "import numpy as np\n",
    "from datetime import date\n",
    "from datetime import datetime, timedelta\n",
    "import matplotlib.pyplot as plt\n",
    "import seaborn as sns\n",
    "\n",
    "day_1 = pd.read_csv(\"C://Users//Juan Diego//Documents//Data Analyst-Data Scientist//Data projects//Homelike//bq-results-20210714.csv\")\n",
    "day_2 = pd.read_csv(\"C://Users//Juan Diego//Documents//Data Analyst-Data Scientist//Data projects//Homelike//bq-results-20210715.csv\")\n",
    "day_3 = pd.read_csv(\"C://Users//Juan Diego//Documents//Data Analyst-Data Scientist//Data projects//Homelike//bq-results-20210716.csv\")\n",
    "day_4 = pd.read_csv(\"C://Users//Juan Diego//Documents//Data Analyst-Data Scientist//Data projects//Homelike//bq-results-20210717.csv\")\n",
    "day_5 = pd.read_csv(\"C://Users//Juan Diego//Documents//Data Analyst-Data Scientist//Data projects//Homelike//bq-results-20210718.csv\")\n",
    "\n",
    "df = pd.concat([day_1, day_2, day_3, day_4, day_5], ignore_index=True)"
   ]
  },
  {
   "cell_type": "code",
   "execution_count": 6,
   "id": "c636da98",
   "metadata": {},
   "outputs": [
    {
     "data": {
      "text/plain": [
       "datetime                       0\n",
       "event_type                     0\n",
       "test_groups                    0\n",
       "session_id                  5299\n",
       "visitor_id                  1975\n",
       "user_location_country      53087\n",
       "user_location_city         52803\n",
       "device_class                   0\n",
       "device_family                  0\n",
       "device_browser                 0\n",
       "page_type                      0\n",
       "page_country             1131723\n",
       "page_city                1131891\n",
       "apartment_id             1324809\n",
       "params                         0\n",
       "environemnt                    0\n",
       "is_internal_ip                 0\n",
       "dtype: int64"
      ]
     },
     "execution_count": 6,
     "metadata": {},
     "output_type": "execute_result"
    }
   ],
   "source": [
    "df.isnull().sum()"
   ]
  },
  {
   "cell_type": "code",
   "execution_count": 8,
   "id": "a5cf37d0",
   "metadata": {},
   "outputs": [
    {
     "data": {
      "text/plain": [
       "datetime                 object\n",
       "event_type               object\n",
       "test_groups              object\n",
       "session_id               object\n",
       "visitor_id               object\n",
       "user_location_country    object\n",
       "user_location_city       object\n",
       "device_class             object\n",
       "device_family            object\n",
       "device_browser           object\n",
       "page_type                object\n",
       "page_country             object\n",
       "page_city                object\n",
       "apartment_id             object\n",
       "params                   object\n",
       "environemnt              object\n",
       "is_internal_ip             bool\n",
       "dtype: object"
      ]
     },
     "execution_count": 8,
     "metadata": {},
     "output_type": "execute_result"
    }
   ],
   "source": [
    "# We have null values\n",
    "\n",
    "# Let's check the datatypes of the columns, and make sure a date is a date\n",
    "\n",
    "df.dtypes"
   ]
  },
  {
   "cell_type": "code",
   "execution_count": 10,
   "id": "41de7704",
   "metadata": {},
   "outputs": [
    {
     "data": {
      "text/plain": [
       "datetime                 datetime64[ns, UTC]\n",
       "event_type                            object\n",
       "test_groups                           object\n",
       "session_id                            object\n",
       "visitor_id                            object\n",
       "user_location_country                 object\n",
       "user_location_city                    object\n",
       "device_class                          object\n",
       "device_family                         object\n",
       "device_browser                        object\n",
       "page_type                             object\n",
       "page_country                          object\n",
       "page_city                             object\n",
       "apartment_id                          object\n",
       "params                                object\n",
       "environemnt                           object\n",
       "is_internal_ip                          bool\n",
       "dtype: object"
      ]
     },
     "execution_count": 10,
     "metadata": {},
     "output_type": "execute_result"
    }
   ],
   "source": [
    "df[\"datetime\"] = pd.to_datetime(df[\"datetime\"])\n",
    "df.dtypes"
   ]
  },
  {
   "cell_type": "code",
   "execution_count": 11,
   "id": "79a6a3a8",
   "metadata": {},
   "outputs": [
    {
     "name": "stdout",
     "output_type": "stream",
     "text": [
      "the column datetime has 1446759 unique values\n",
      "the column event_type has 191 unique values\n",
      "the column test_groups has 39 unique values\n",
      "the column session_id has 94699 unique values\n",
      "the column visitor_id has 80571 unique values\n",
      "the column user_location_country has 201 unique values\n",
      "the column user_location_city has 11227 unique values\n",
      "the column device_class has 5 unique values\n",
      "the column device_family has 831 unique values\n",
      "the column device_browser has 41 unique values\n",
      "the column page_type has 6 unique values\n",
      "the column page_country has 30 unique values\n",
      "the column page_city has 879 unique values\n",
      "the column apartment_id has 12570 unique values\n",
      "the column params has 413906 unique values\n",
      "the column environemnt has 2 unique values\n",
      "the column is_internal_ip has 2 unique values\n"
     ]
    }
   ],
   "source": [
    "# Now let's see which columns can be transformed into categories#\n",
    "\n",
    "col = df.columns\n",
    "for c in col:\n",
    "    print(\"the column {} has {} unique values\".format(c, df[c].nunique()))"
   ]
  },
  {
   "cell_type": "code",
   "execution_count": 12,
   "id": "f079eb51",
   "metadata": {},
   "outputs": [],
   "source": [
    "# maybe device class, page_type, environment\n",
    "\n",
    "for a in [\"device_class\", \"page_type\", \"environemnt\", \"test_groups\", \"device_browser\", \"page_country\"]:\n",
    "    df[a] = df[a].astype(\"category\")"
   ]
  },
  {
   "cell_type": "code",
   "execution_count": 13,
   "id": "95155f1e",
   "metadata": {},
   "outputs": [],
   "source": [
    "# now let's create some variables analyzing for time\n",
    "\n",
    "df[\"datetime_os\"] = df[\"datetime\"].dt.strftime(\"%Y-%m-%d %H:%M:%S\")\n",
    "df[\"day\"] = df.datetime.dt.day\n",
    "df[\"weekday\"] = df.datetime.dt.weekday\n",
    "df[\"wday\"] = df.datetime.dt.strftime(\"%A\")\n",
    "df[\"time\"] = df.datetime.dt.time\n",
    "df[\"hour\"] = df.datetime.dt.hour\n",
    "\n",
    "df[\"wday\"] = df.wday.astype(\"category\")\n",
    "df[\"wday\"] = pd.Categorical(df.wday, [\"Wednesday\", \"Thursday\", \"Friday\", \"Saturday\", \"Sunday\"])\n",
    "df[\"datetime_om\"] = df[\"datetime\"].apply(lambda x: x.replace(minute=0, second=0, microsecond=0))"
   ]
  },
  {
   "cell_type": "code",
   "execution_count": 14,
   "id": "b0a24c5b",
   "metadata": {},
   "outputs": [],
   "source": [
    "''' Design reports , monitor KPIs and provide executive summaries\n",
    "to product teams and stakeholders around our user behaviour.'''\n",
    "\n",
    "# First, let's take a look at visits over time to the webpage. We need to assign each\n",
    "# event with a value 1, so that we can sum that row\n",
    "\n",
    "df[\"ev\"] = 1"
   ]
  },
  {
   "cell_type": "code",
   "execution_count": 15,
   "id": "61f49e6e",
   "metadata": {},
   "outputs": [
    {
     "data": {
      "text/plain": [
       "94699"
      ]
     },
     "execution_count": 15,
     "metadata": {},
     "output_type": "execute_result"
    }
   ],
   "source": [
    "# How many different sessions we had\n",
    "\n",
    "df.session_id.nunique()"
   ]
  },
  {
   "cell_type": "code",
   "execution_count": 16,
   "id": "d3102e5b",
   "metadata": {},
   "outputs": [
    {
     "data": {
      "image/png": "[encoded data removed]",
      "text/plain": [
       "<Figure size 432x288 with 1 Axes>"
      ]
     },
     "metadata": {
      "needs_background": "light"
     },
     "output_type": "display_data"
    }
   ],
   "source": [
    "# session_ids by weekday\n",
    "\n",
    "sessions_wh = df[[\"session_id\", \"event_type\", \"datetime_os\", \"wday\", \"hour\"]].sort_values(by=[\"session_id\", \"datetime_os\"])\n",
    "sessions_wh = sessions_wh.drop_duplicates(subset=\"session_id\", keep=\"first\")\n",
    "\n",
    "s_wd = sessions_wh.groupby(by=\"wday\", as_index=False).session_id.count()\n",
    "\n",
    "plt.bar(\"wday\", \"session_id\", data=s_wd, edgecolor=\"black\", color=\"#1969d1\", alpha=0.8)\n",
    "plt.show()"
   ]
  },
  {
   "cell_type": "code",
   "execution_count": 17,
   "id": "90707236",
   "metadata": {},
   "outputs": [
    {
     "data": {
      "image/png": "[encoded data removed]",
      "text/plain": [
       "<Figure size 432x288 with 1 Axes>"
      ]
     },
     "metadata": {
      "needs_background": "light"
     },
     "output_type": "display_data"
    }
   ],
   "source": [
    "# session_ids by hour\n",
    "\n",
    "s_h = sessions_wh.groupby(by=\"hour\", as_index=False).session_id.count()\n",
    "\n",
    "plt.bar(\"hour\", \"session_id\", data=s_h, edgecolor=\"black\", color=\"#cf4d34\", alpha=0.9)\n",
    "plt.show()"
   ]
  },
  {
   "cell_type": "code",
   "execution_count": 18,
   "id": "cd38aa83",
   "metadata": {},
   "outputs": [],
   "source": [
    "# let's make a function that will groupby the date dimension, sum the ev, and then\n",
    "# plot a line\n",
    "\n",
    "def group_plot(df, timedim, ft):\n",
    "    df_t = df.groupby(by=timedim, as_index=False)[ft].sum()\n",
    "    plt.bar(timedim, ft, data=df_t, edgecolor=\"black\")\n",
    "    plt.title(\"Number of events per {}\".format(timedim))\n",
    "    plt.xlabel(timedim)\n",
    "    plt.ylabel(\"Number of events\")\n",
    "    plt.show()"
   ]
  },
  {
   "cell_type": "code",
   "execution_count": 19,
   "id": "0101bd50",
   "metadata": {},
   "outputs": [
    {
     "data": {
      "image/png": "[encoded data removed]",
      "text/plain": [
       "<Figure size 432x288 with 1 Axes>"
      ]
     },
     "metadata": {
      "needs_background": "light"
     },
     "output_type": "display_data"
    }
   ],
   "source": [
    "# grouping by weekday\n",
    "\n",
    "group_plot(df, \"wday\", \"ev\")"
   ]
  },
  {
   "cell_type": "code",
   "execution_count": 20,
   "id": "458b5cb1",
   "metadata": {},
   "outputs": [
    {
     "data": {
      "image/png": "[encoded data removed]",
      "text/plain": [
       "<Figure size 432x288 with 1 Axes>"
      ]
     },
     "metadata": {
      "needs_background": "light"
     },
     "output_type": "display_data"
    }
   ],
   "source": [
    "# grouping by hour\n",
    "\n",
    "group_plot(df, \"hour\", \"ev\")"
   ]
  },
  {
   "cell_type": "code",
   "execution_count": 21,
   "id": "030922f8",
   "metadata": {},
   "outputs": [
    {
     "data": {
      "image/png": "[encoded data removed]",
      "text/plain": [
       "<Figure size 432x288 with 1 Axes>"
      ]
     },
     "metadata": {
      "needs_background": "light"
     },
     "output_type": "display_data"
    }
   ],
   "source": [
    "# grouping by date hour and making a lineplot\n",
    "\n",
    "a = df.groupby(by=\"datetime_om\", as_index=False).ev.sum()\n",
    "\n",
    "plt.plot(\"datetime_om\", \"ev\", data=a)\n",
    "plt.title(\"Number of events per date-hour\")\n",
    "plt.xlabel(\"Date\")\n",
    "plt.ylabel(\"Number of events\")\n",
    "plt.show()"
   ]
  },
  {
   "cell_type": "code",
   "execution_count": 22,
   "id": "1379aab7",
   "metadata": {},
   "outputs": [
    {
     "data": {
      "image/png": "[encoded data removed]",
      "text/plain": [
       "<Figure size 432x288 with 1 Axes>"
      ]
     },
     "metadata": {
      "needs_background": "light"
     },
     "output_type": "display_data"
    }
   ],
   "source": [
    "# How many events we have of each type? Check the distribution of events according to event type\n",
    "\n",
    "b = df.groupby(by=\"event_type\", as_index=False).ev.sum().sort_values(\"ev\", ascending=False).head(10)\n",
    "c = df.groupby(by=\"event_type\", as_index=False).ev.sum().sort_values(\"ev\", ascending=False).tail(10)\n",
    "\n",
    "plt.bar(\"event_type\", \"ev\", data=b, edgecolor=\"black\", color=\"green\")\n",
    "plt.title(\"Number of events per event_type\")\n",
    "plt.xlabel(\"Event type\")\n",
    "plt.ylabel(\"Number of events\")\n",
    "plt.xticks(rotation = 90)\n",
    "plt.show()\n"
   ]
  },
  {
   "cell_type": "code",
   "execution_count": 24,
   "id": "969ad27c",
   "metadata": {},
   "outputs": [
    {
     "data": {
      "image/png": "[encoded data removed]",
      "text/plain": [
       "<Figure size 432x288 with 1 Axes>"
      ]
     },
     "metadata": {
      "needs_background": "light"
     },
     "output_type": "display_data"
    }
   ],
   "source": [
    "plt.bar(\"event_type\", \"ev\", data=c, edgecolor=\"black\", color=\"red\", alpha=0.6)\n",
    "plt.title(\"Number of events per event_type\")\n",
    "plt.xlabel(\"Event type\")\n",
    "plt.ylabel(\"Number of events\")\n",
    "plt.xticks(rotation = 90)\n",
    "plt.show()"
   ]
  },
  {
   "cell_type": "code",
   "execution_count": 25,
   "id": "6cb0999e",
   "metadata": {},
   "outputs": [
    {
     "data": {
      "text/plain": [
       "94699"
      ]
     },
     "execution_count": 25,
     "metadata": {},
     "output_type": "execute_result"
    }
   ],
   "source": [
    "# Let's look at session id. \n",
    "\n",
    "df.session_id.nunique()"
   ]
  },
  {
   "cell_type": "code",
   "execution_count": 26,
   "id": "3b0a6bac",
   "metadata": {},
   "outputs": [],
   "source": [
    "# There are 94.699 sessions, and there were 1.509.775 events. Avg events by session?"
   ]
  },
  {
   "cell_type": "code",
   "execution_count": 27,
   "id": "26aa95e8",
   "metadata": {},
   "outputs": [
    {
     "data": {
      "text/plain": [
       "15.942882184605962"
      ]
     },
     "execution_count": 27,
     "metadata": {},
     "output_type": "execute_result"
    }
   ],
   "source": [
    "avg_event_by_session = df.shape[0]/df.session_id.nunique()\n",
    "avg_event_by_session"
   ]
  },
  {
   "cell_type": "code",
   "execution_count": 29,
   "id": "5f69502e",
   "metadata": {},
   "outputs": [
    {
     "data": {
      "text/plain": [
       "18.738441871144705"
      ]
     },
     "execution_count": 29,
     "metadata": {},
     "output_type": "execute_result"
    }
   ],
   "source": [
    "# visitor_id, how many do we have? How many events on average does each visitor have?\n",
    "\n",
    "total_visitors = df[\"visitor_id\"].nunique()\n",
    "avg_event_by_visitor = df.shape[0]/total_visitors\n",
    "avg_event_by_visitor"
   ]
  },
  {
   "cell_type": "code",
   "execution_count": 30,
   "id": "898cfda0",
   "metadata": {},
   "outputs": [
    {
     "name": "stdout",
     "output_type": "stream",
     "text": [
      "                                     visitor_id  session_id\n",
      "61743  c410e56504b3814484700518a58254e7e7cc2820          68\n",
      "23780  4befd5cbf8a98a5fe659b261e890096f95eb5270          50\n",
      "13534  2b08e7bfbab4a1dbca9f16435a6e5bda98bed515          41\n",
      "44887  8ee0b1a18760d9b8fe22509727848e78bc240e1d          40\n",
      "17034  363c814d50a28731b76429d66497f121589c7e81          30\n",
      "17118  3682f637b8f174fb60f349ac02debe8a0675e656          22\n",
      "44843  8eb96dc43ca499d79c57b349ed36c020f2e02484          20\n",
      "31610  6557073884ea0c3563249305f5c9d97a10f9803f          20\n",
      "25038  502a0c2436a5e9336be1d2f42bf6f3822bd77f6e          19\n",
      "63680  ca432d1fea7a1ee6ce34dffe7cad1fced06ce52b          18\n",
      "60354  bfccbcca92872b94de87e3d33dbbd80e09c71284          17\n",
      "13338  2a634bc6f0a6141a8ce0082a0b5da47d8a09a864          17\n",
      "67714  d72a3286dbee52264eb91617fa6536a45b1068ab          16\n",
      "12689  2843bd32895a7e9db2df741184caba8970119784          16\n",
      "107    00532a84148804a7c385e7e71280dff932e1720a          15\n",
      "55316  afffd0c3d7520a9818e6adca2eaef0421b1c7c89          14\n",
      "60336  bfc08e0e06f84ebf52dd0fcfcbc5c1cffd0c391f          14\n",
      "36664  753c15e798ea8cfda8fa59e3c557b2db034a1127          14\n",
      "38816  7bc6204a860c2508f4bddcd56971ce3a83c2f3b9          13\n",
      "59208  bc39a9c86c5d578bcbe55280018b7b13c3bffc0c          13\n",
      "9204   1d28e04e7822a39248715011ddba1ce4310965b4          13\n",
      "32788  68fbf4f881d03246dbe954dfa92ff198fcdf4819          13\n",
      "56817  b4e8b53c901fa2deb4e9999ab4e211e7cbc6f5c5          13\n",
      "53191  a9463dbb18037863d9e508d4500e993810293b14          13\n",
      "26824  55f88db1831aa7aa5ab5d533e651e4ed45dd84e6          13\n",
      "64574  cd1ef748dd84cf774c54d22ab919359374117551          12\n",
      "20731  4234481371ec2ad58cac67b69bfb47459d28526c          12\n",
      "56718  b49b4169a33a51aa755e14f5d67382a09b31d13b          12\n",
      "41776  851fa2fb8d2e65fa1dd31772b1a7422cb5c8387e          12\n",
      "35447  7181bb2e0758bd484dc1963eb5b0b7a3bd821264          12\n",
      "11241  2391bdce07ef9a29448905f6f61dc29aa085ec27          12\n",
      "4938   0f8299b335e7fef3bd24c4a22c5db9eeee9e0f44          11\n",
      "57090  b5c36b703fcd92fde29166ea455d0345bb71a8da          11\n",
      "57185  b613b2c822e499d304a00180cfd5cfaed2223f9c          10\n",
      "19152  3d329363dfbdd6f46d8945efd96e4b53f1e501de          10\n",
      "60511  c0429e268c1ba74fb1cdfead776bd12be202adb3          10\n",
      "16161  3370ec37310a4d8d48a43c8a945714682d7640c2          10\n",
      "36974  7634b25553178484b21f7e49a58b8bc4a6c95211          10\n",
      "24864  4f992c3a076aafebf1a916018b71ee61968d140a          10\n",
      "7248   171b9a43363ddf14a9cc12ba4fa8547f14787463          10\n",
      "24298  4db5b1d8bd0451314b8548b6f5cdacb360d2547a          10\n",
      "34535  6ea2a8190f675dda76716ce046d43149ef617e36          10\n",
      "44743  8e7093f4923f0286a1a8ee38248886d84fb770a9          10\n",
      "37691  787a5a3b5983fd2ff7feb376d612bd61ec25063a          10\n",
      "46089  928b1884808122b946be73f692766a845d7066ec          10\n",
      "78717  fa080426daf5140ebf9d3403f0d46bf67e2738e4          10\n",
      "62178  c58a3084d43b2f3542304ac8aee2bb58fe6e30d3          10\n",
      "22483  47dd1d68740d0b38b43dcbb8ff7c7bfc861de59d          10\n",
      "17351  37491558c32657474f55277b4e15984444b93f79           9\n",
      "33332  6ac3401350029c78634804b0072fb0a692290671           9\n"
     ]
    }
   ],
   "source": [
    "# different visitor ids. 50 visitor_ids with the most sessions?\n",
    "\n",
    "df[\"visitor_id\"].nunique()\n",
    "df_visit_id = df.sort_values(by=[\"visitor_id\", \"datetime_os\"]).drop_duplicates(subset=[\"visitor_id\", \"session_id\"], keep=\"first\")\n",
    "v_most_sessions = df_visit_id.groupby(by=\"visitor_id\", as_index=False).session_id.count().sort_values(by=\"session_id\", ascending=False).head(50)\n",
    "print(v_most_sessions)"
   ]
  },
  {
   "cell_type": "code",
   "execution_count": 33,
   "id": "77433c30",
   "metadata": {},
   "outputs": [
    {
     "data": {
      "text/plain": [
       "1125.52"
      ]
     },
     "execution_count": 33,
     "metadata": {},
     "output_type": "execute_result"
    }
   ],
   "source": [
    "# visitor_id by number of events? Let's take a look at top 50 visitors with the most events, and average events by visitor\n",
    "\n",
    "top_50_visitors_by_events = df.groupby(by=\"visitor_id\", as_index=False).session_id.count().sort_values(by=\"session_id\", ascending=False).head(50)\n",
    "top_50_visitors_by_events[\"session_id\"].mean()"
   ]
  },
  {
   "cell_type": "code",
   "execution_count": 34,
   "id": "849d8f4c",
   "metadata": {},
   "outputs": [
    {
     "data": {
      "text/plain": [
       "17.98537027607705"
      ]
     },
     "execution_count": 34,
     "metadata": {},
     "output_type": "execute_result"
    }
   ],
   "source": [
    "t50 = list(top_50_visitors_by_events[\"visitor_id\"])\n",
    "visitor_by_events_not50 = df.loc[~df.visitor_id.isin(t50), :].groupby(by=\"visitor_id\", as_index=False).session_id.count().sort_values(by=\"session_id\", ascending=False)\n",
    "visitor_by_events_not50[\"session_id\"].mean()"
   ]
  },
  {
   "cell_type": "code",
   "execution_count": null,
   "id": "8823ecb2",
   "metadata": {},
   "outputs": [],
   "source": [
    "# for the top 50 visitors with the most events, they have 1125 events on average\n",
    "# for all the non top 50 visitors, they have 18 events on average"
   ]
  },
  {
   "cell_type": "code",
   "execution_count": 35,
   "id": "217039a7",
   "metadata": {},
   "outputs": [
    {
     "data": {
      "text/plain": [
       "datetime                 datetime64[ns, UTC]\n",
       "event_type                            object\n",
       "test_groups                         category\n",
       "session_id                            object\n",
       "visitor_id                            object\n",
       "user_location_country                 object\n",
       "user_location_city                    object\n",
       "device_class                        category\n",
       "device_family                         object\n",
       "device_browser                      category\n",
       "page_type                           category\n",
       "page_country                        category\n",
       "page_city                             object\n",
       "apartment_id                          object\n",
       "params                                object\n",
       "environemnt                         category\n",
       "is_internal_ip                          bool\n",
       "datetime_os                   datetime64[ns]\n",
       "day                                    int64\n",
       "weekday                                int64\n",
       "wday                                category\n",
       "time                                  object\n",
       "hour                                   int64\n",
       "datetime_om              datetime64[ns, UTC]\n",
       "ev                                     int64\n",
       "dtype: object"
      ]
     },
     "execution_count": 35,
     "metadata": {},
     "output_type": "execute_result"
    }
   ],
   "source": [
    "# avg time spent on the webpage? For top 50 with more visits and all?\n",
    "\n",
    "df[\"datetime_os\"] = pd.to_datetime(df[\"datetime_os\"])\n",
    "df.dtypes"
   ]
  },
  {
   "cell_type": "code",
   "execution_count": 36,
   "id": "a9c9f677",
   "metadata": {},
   "outputs": [
    {
     "data": {
      "text/plain": [
       "Timedelta('0 days 00:14:56.429043601')"
      ]
     },
     "execution_count": 36,
     "metadata": {},
     "output_type": "execute_result"
    }
   ],
   "source": [
    "sessions = df[[\"session_id\", \"event_type\", \"datetime_os\"]].sort_values(by=[\"session_id\", \"datetime_os\"])\n",
    "\n",
    "ind_sessions = pd.Series(sessions[\"session_id\"].unique())\n",
    "ind_sessions = ind_sessions.reindex(ind_sessions)\n",
    "\n",
    "min_per_session = sessions.groupby(by=\"session_id\").datetime_os.min()\n",
    "max_per_session = sessions.groupby(by=\"session_id\").datetime_os.max()\n",
    "\n",
    "sessions_time = pd.concat([ind_sessions, min_per_session, max_per_session], axis=1, join=\"inner\")\n",
    "sessions_time = sessions_time.reset_index()\n",
    "sessions_time = sessions_time.drop(0, axis=1)\n",
    "sessions_time.rename(columns={\"index\" : \"session_id\", \"datetime_os\" : \"first_event\", \"datetime_os\" : \"last_event\"}, inplace=True)\n",
    "sessions_time[\"duration\"] = sessions_time.iloc[:, 2] - sessions_time.iloc[:, 1]\n",
    "\n",
    "sessions_time[\"duration\"].mean()"
   ]
  },
  {
   "cell_type": "code",
   "execution_count": 38,
   "id": "5cdd47c7",
   "metadata": {},
   "outputs": [],
   "source": [
    "# for all sessions, the average time spent on the web is 14:56 minutes"
   ]
  },
  {
   "cell_type": "code",
   "execution_count": 39,
   "id": "c7ceb441",
   "metadata": {},
   "outputs": [
    {
     "name": "stderr",
     "output_type": "stream",
     "text": [
      "<ipython-input-39-ef5091595596>:1: FutureWarning: DataFrame.mean and DataFrame.median with numeric_only=None will include datetime64 and datetime64tz columns in a future version.\n",
      "  sessions_time.sort_values(by=\"duration\", ascending=False).head(50).mean()\n"
     ]
    },
    {
     "data": {
      "text/plain": [
       "duration   2 days 15:30:44.660000\n",
       "dtype: timedelta64[ns]"
      ]
     },
     "execution_count": 39,
     "metadata": {},
     "output_type": "execute_result"
    }
   ],
   "source": [
    "sessions_time.sort_values(by=\"duration\", ascending=False).head(50).mean()"
   ]
  },
  {
   "cell_type": "code",
   "execution_count": 40,
   "id": "2cc9c060",
   "metadata": {},
   "outputs": [],
   "source": [
    "# for top 50 sessions, average duration is 39 hours and 30 minutes"
   ]
  },
  {
   "cell_type": "code",
   "execution_count": 41,
   "id": "b3aa789d",
   "metadata": {},
   "outputs": [],
   "source": [
    "def groupby_count(d, c):\n",
    "    abc = d.groupby(by=c, as_index=False).ev.sum().sort_values(by=\"ev\", ascending=False)\n",
    "    return abc"
   ]
  },
  {
   "cell_type": "code",
   "execution_count": 42,
   "id": "5562bcdc",
   "metadata": {},
   "outputs": [
    {
     "data": {
      "text/html": [
       "<div>\n",
       "<style scoped>\n",
       "    .dataframe tbody tr th:only-of-type {\n",
       "        vertical-align: middle;\n",
       "    }\n",
       "\n",
       "    .dataframe tbody tr th {\n",
       "        vertical-align: top;\n",
       "    }\n",
       "\n",
       "    .dataframe thead th {\n",
       "        text-align: right;\n",
       "    }\n",
       "</style>\n",
       "<table border=\"1\" class=\"dataframe\">\n",
       "  <thead>\n",
       "    <tr style=\"text-align: right;\">\n",
       "      <th></th>\n",
       "      <th>is_internal_ip</th>\n",
       "      <th>ev</th>\n",
       "    </tr>\n",
       "  </thead>\n",
       "  <tbody>\n",
       "    <tr>\n",
       "      <th>0</th>\n",
       "      <td>False</td>\n",
       "      <td>1504560</td>\n",
       "    </tr>\n",
       "    <tr>\n",
       "      <th>1</th>\n",
       "      <td>True</td>\n",
       "      <td>5215</td>\n",
       "    </tr>\n",
       "  </tbody>\n",
       "</table>\n",
       "</div>"
      ],
      "text/plain": [
       "   is_internal_ip       ev\n",
       "0           False  1504560\n",
       "1            True     5215"
      ]
     },
     "execution_count": 42,
     "metadata": {},
     "output_type": "execute_result"
    }
   ],
   "source": [
    "# let's see the distribution of events by different dimensions\n",
    "\n",
    "groupby_count(df, \"user_location_country\").head(10)\n",
    "groupby_count(df, \"device_class\").head(10)\n",
    "groupby_count(df, \"device_family\").head(10)\n",
    "groupby_count(df, \"device_browser\").head(10)\n",
    "groupby_count(df, \"page_type\").head(10)\n",
    "groupby_count(df, \"page_country\").head(10)\n",
    "groupby_count(df, \"page_city\").head(10)\n",
    "groupby_count(df, \"apartment_id\").head(10)\n",
    "groupby_count(df, \"params\").head(10)\n",
    "groupby_count(df, \"environemnt\").head(10)\n",
    "groupby_count(df, \"is_internal_ip\").head(10)"
   ]
  },
  {
   "cell_type": "code",
   "execution_count": 43,
   "id": "8c1535f1",
   "metadata": {},
   "outputs": [
    {
     "data": {
      "text/html": [
       "<div>\n",
       "<style scoped>\n",
       "    .dataframe tbody tr th:only-of-type {\n",
       "        vertical-align: middle;\n",
       "    }\n",
       "\n",
       "    .dataframe tbody tr th {\n",
       "        vertical-align: top;\n",
       "    }\n",
       "\n",
       "    .dataframe thead th {\n",
       "        text-align: right;\n",
       "    }\n",
       "</style>\n",
       "<table border=\"1\" class=\"dataframe\">\n",
       "  <thead>\n",
       "    <tr style=\"text-align: right;\">\n",
       "      <th></th>\n",
       "      <th>is_internal_ip</th>\n",
       "      <th>session_id</th>\n",
       "    </tr>\n",
       "  </thead>\n",
       "  <tbody>\n",
       "    <tr>\n",
       "      <th>0</th>\n",
       "      <td>False</td>\n",
       "      <td>94575</td>\n",
       "    </tr>\n",
       "    <tr>\n",
       "      <th>1</th>\n",
       "      <td>True</td>\n",
       "      <td>124</td>\n",
       "    </tr>\n",
       "  </tbody>\n",
       "</table>\n",
       "</div>"
      ],
      "text/plain": [
       "   is_internal_ip  session_id\n",
       "0           False       94575\n",
       "1            True         124"
      ]
     },
     "execution_count": 43,
     "metadata": {},
     "output_type": "execute_result"
    }
   ],
   "source": [
    "# let's see the distribution of sessions by different dimensions. First we need to \n",
    "# obtain a df with 1 row per session, so we're going to keep the first event of each session.\n",
    "\n",
    "df_sessions = df.drop_duplicates(subset=\"session_id\", keep=\"first\")\n",
    "\n",
    "def groupby_count2(d, c):\n",
    "    abc = d.groupby(by=c, as_index=False).session_id.count().sort_values(by=\"session_id\", ascending=False)\n",
    "    return abc\n",
    "\n",
    "groupby_count2(df_sessions, \"user_location_country\").head(10)\n",
    "groupby_count2(df_sessions, \"device_class\").head(10)\n",
    "groupby_count2(df_sessions, \"device_family\").head(10)\n",
    "groupby_count2(df_sessions, \"device_browser\").head(10)\n",
    "groupby_count2(df_sessions, \"page_type\").head(10)\n",
    "groupby_count2(df_sessions, \"page_country\").head(10)\n",
    "groupby_count2(df_sessions, \"page_city\").head(10)\n",
    "groupby_count2(df_sessions, \"apartment_id\").head(10)\n",
    "groupby_count2(df_sessions, \"params\").head(10)\n",
    "groupby_count2(df_sessions, \"environemnt\").head(10)\n",
    "groupby_count2(df_sessions, \"is_internal_ip\").head(10)"
   ]
  },
  {
   "cell_type": "code",
   "execution_count": 44,
   "id": "c955be4c",
   "metadata": {},
   "outputs": [
    {
     "data": {
      "text/html": [
       "<div>\n",
       "<style scoped>\n",
       "    .dataframe tbody tr th:only-of-type {\n",
       "        vertical-align: middle;\n",
       "    }\n",
       "\n",
       "    .dataframe tbody tr th {\n",
       "        vertical-align: top;\n",
       "    }\n",
       "\n",
       "    .dataframe thead th {\n",
       "        text-align: right;\n",
       "    }\n",
       "</style>\n",
       "<table border=\"1\" class=\"dataframe\">\n",
       "  <thead>\n",
       "    <tr style=\"text-align: right;\">\n",
       "      <th></th>\n",
       "      <th>is_internal_ip</th>\n",
       "      <th>visitor_id</th>\n",
       "    </tr>\n",
       "  </thead>\n",
       "  <tbody>\n",
       "    <tr>\n",
       "      <th>0</th>\n",
       "      <td>False</td>\n",
       "      <td>80487</td>\n",
       "    </tr>\n",
       "    <tr>\n",
       "      <th>1</th>\n",
       "      <td>True</td>\n",
       "      <td>84</td>\n",
       "    </tr>\n",
       "  </tbody>\n",
       "</table>\n",
       "</div>"
      ],
      "text/plain": [
       "   is_internal_ip  visitor_id\n",
       "0           False       80487\n",
       "1            True          84"
      ]
     },
     "execution_count": 44,
     "metadata": {},
     "output_type": "execute_result"
    }
   ],
   "source": [
    "# let's see the distribution of visitor_id by different dimensions. First we need to\n",
    "# obtain a df with 1 row per visitor, so we're going to keep the first event for each visitor\n",
    "\n",
    "df_visitors = df.drop_duplicates(subset=\"visitor_id\", keep=\"first\")\n",
    "\n",
    "def groupby_count3(d, c):\n",
    "    abc = d.groupby(by=c, as_index=False).visitor_id.count().sort_values(by=\"visitor_id\", ascending=False)\n",
    "    return abc\n",
    "\n",
    "groupby_count3(df_visitors, \"user_location_country\").head(10)\n",
    "groupby_count3(df_visitors, \"device_class\").head(10)\n",
    "groupby_count3(df_visitors, \"device_family\").head(10)\n",
    "groupby_count3(df_visitors, \"device_browser\").head(10)\n",
    "groupby_count3(df_visitors, \"page_type\").head(10)\n",
    "groupby_count3(df_visitors, \"page_country\").head(10)\n",
    "groupby_count3(df_visitors, \"page_city\").head(10)\n",
    "groupby_count3(df_visitors, \"apartment_id\").head(10)\n",
    "groupby_count3(df_visitors, \"params\").head(10)\n",
    "groupby_count3(df_visitors, \"environemnt\").head(10)\n",
    "groupby_count3(df_visitors, \"is_internal_ip\").head(10)"
   ]
  },
  {
   "cell_type": "code",
   "execution_count": 47,
   "id": "80a59bae",
   "metadata": {},
   "outputs": [
    {
     "data": {
      "text/plain": [
       "array(['apartment_adult_less', 'apartment_adult_more',\n",
       "       'apartment_back-to-search_button', 'apartment_back-to-top',\n",
       "       'apartment_click_moreapartmentsincity',\n",
       "       'apartment_close_price_discount_tooltip',\n",
       "       'apartment_close_servicefee_modal', 'apartment_date_change',\n",
       "       'apartment_date_init', 'apartment_date_init_unavailable',\n",
       "       'apartment_enhanced_cleaning_close',\n",
       "       'apartment_enhanced_cleaning_learn_more',\n",
       "       'apartment_enhanced_cleaning_open', 'apartment_gallery_closed',\n",
       "       'apartment_gallery_opened', 'apartment_image_click',\n",
       "       'apartment_intercom_open', 'apartment_open-request-box',\n",
       "       'apartment_open_price_discount_tooltip',\n",
       "       'apartment_open_servicefee_modal', 'apartment_pdf_generated',\n",
       "       'apartment_saved', 'apartment_section_amenities_collapsed',\n",
       "       'apartment_section_amenities_expanded',\n",
       "       'apartment_section_amenities_selected',\n",
       "       'apartment_section_amenities_show-all',\n",
       "       'apartment_section_area_showmore',\n",
       "       'apartment_section_cancellationpolicy_collapsed',\n",
       "       'apartment_section_cancellationpolicy_expanded',\n",
       "       'apartment_section_description_show-more',\n",
       "       'apartment_section_energypass_collapsed',\n",
       "       'apartment_section_energypass_expanded',\n",
       "       'apartment_section_landlord_selected',\n",
       "       'apartment_section_location_collapsed',\n",
       "       'apartment_section_location_expanded',\n",
       "       'apartment_section_location_selected',\n",
       "       'apartment_section_location_showmap',\n",
       "       'apartment_section_overview_selected',\n",
       "       'apartment_section_policies_selected',\n",
       "       'apartment_section_priceavailabillity_collapsed',\n",
       "       'apartment_section_priceavailabillity_expanded',\n",
       "       'apartment_section_rooms_collapsed',\n",
       "       'apartment_section_rooms_expanded',\n",
       "       'apartment_section_rules_collapsed',\n",
       "       'apartment_section_rules_expanded',\n",
       "       'apartment_section_services_collapsed',\n",
       "       'apartment_section_services_expanded', 'apartment_shared',\n",
       "       'apartment_shared_email-open',\n",
       "       'apartment_similar-apartment-opened',\n",
       "       'apartment_tooltip_company_guarantee',\n",
       "       'apartment_tooltip_landlord', 'apartment_total-cost_showmore',\n",
       "       'apartment_unavailable', 'apartment_unsaved',\n",
       "       'cancellation_flexible_learn_more',\n",
       "       'cancellation_fullRefund_14days_learn_more',\n",
       "       'cancellation_fullRefund_30days_learn_more',\n",
       "       'cancellation_fullRefund_48hours_learn_more',\n",
       "       'cancellation_noRefund_firstMonth_learn_more', 'click_book-now',\n",
       "       'close_modal_cancellationpolicy', 'contact_open',\n",
       "       'fetching-existing-request_error', 'homelike_logo_clicked',\n",
       "       'language_changed', 'learn_more_cancellationpolicy',\n",
       "       'login_modal_closed', 'login_modal_opened', 'movein_date_open',\n",
       "       'moveout_date_open', 'page_view', 'payment_method_selected_cc',\n",
       "       'payment_method_selected_prepay', 'payment_open',\n",
       "       'request_add-tenant-checkbox-marked',\n",
       "       'request_cancellationPolicy-learn-more-clicked',\n",
       "       'request_close_cancellation',\n",
       "       'request_company-booking-checkbox-marked',\n",
       "       'request_contact_details_saved_failed',\n",
       "       'request_contractual-document-opened',\n",
       "       'request_create-request_error', 'request_date_change',\n",
       "       'request_draft-created', 'request_fetch_user_data-error',\n",
       "       'request_find-another-apartment', 'request_homelike-icon-clicked',\n",
       "       'request_homelike_package_selected_basic',\n",
       "       'request_homelike_package_selected_premium',\n",
       "       'request_homelike_package_selected_standard',\n",
       "       'request_landlord-T&C-checkbox-marked',\n",
       "       'request_landlord-T&C-opened', 'request_open-price-modal',\n",
       "       'request_payment_credit_card_error',\n",
       "       'request_payment_submission_failed',\n",
       "       'request_payment_submission_success', 'request_promotion_applied',\n",
       "       'request_redirect-to-existing-request',\n",
       "       'request_rental-agreement-signed', 'request_save_summary_error',\n",
       "       'request_sent', 'request_show-booking-details',\n",
       "       'request_show-request-details', 'request_state_transition',\n",
       "       'request_summary_edit_contactDetails',\n",
       "       'request_summary_edit_paymentDetails',\n",
       "       'request_summary_edit_tripDetails',\n",
       "       'request_trip_save_and_continue', 'request_type_instant',\n",
       "       'request_type_normal', 'save_and_summary-button_clicked',\n",
       "       'search_adult_less', 'search_adult_more', 'search_agent_opened',\n",
       "       'search_agent_sent', 'search_alternative_apartment_displayed',\n",
       "       'search_alternative_apartment_opened', 'search_apartment_opened',\n",
       "       'search_children_less', 'search_children_more',\n",
       "       'search_city-not-covered',\n",
       "       'search_click_apartment_favorite_loggedout',\n",
       "       'search_click_favorite', 'search_click_internal_seo_links',\n",
       "       'search_close_price_tooltip', 'search_date_14d', 'search_date_3d',\n",
       "       'search_date_7d', 'search_date_apply', 'search_date_cancel',\n",
       "       'search_date_change', 'search_date_exact_dates',\n",
       "       'search_date_filter_close', 'search_error_api_list',\n",
       "       'search_error_api_map_bulk', 'search_filter_close',\n",
       "       'search_filter_reset', 'search_filter_reset-all',\n",
       "       'search_filter_selected',\n",
       "       'search_instantbooking_notification_activate_filter',\n",
       "       'search_instantbooking_notification_open', 'search_intercom_open',\n",
       "       'search_list_cached', 'search_map_cached', 'search_map_closed',\n",
       "       'search_map_marker_open', 'search_map_open', 'search_map_zoom_in',\n",
       "       'search_map_zoom_out', 'search_new-search', 'search_next-page',\n",
       "       'search_no-apartment-found', 'search_open_date_filter',\n",
       "       'search_open_filters', 'search_open_guest_filter',\n",
       "       'search_open_price_tooltip', 'search_toddler_less',\n",
       "       'search_toddler_more', 'share_modal_closed', 'share_modal_open',\n",
       "       'submit_request-button_clicked',\n",
       "       'success_request-reference-link-clicked',\n",
       "       'trip_dates_not_available', 'trip_open',\n",
       "       'trip_validation-apartment_unavailable', 'trip_validation-failed',\n",
       "       'user_auth_error', 'user_auth_google', 'user_auth_linkedin',\n",
       "       'user_auth_login', 'user_auth_logout', 'user_auth_register',\n",
       "       'user_auth_success', 'user_dropdown_login', 'user_dropdown_opened',\n",
       "       'user_dropdown_register', 'user_dropdown_to_dashboard',\n",
       "       'user_forgot-password_success', 'user_login_forgot-password',\n",
       "       'user_register_error', 'user_register_success'], dtype=object)"
      ]
     },
     "execution_count": 47,
     "metadata": {},
     "output_type": "execute_result"
    }
   ],
   "source": [
    "# What is the overall conversion rate on a given day?\n",
    "\n",
    "dateb = datetime(2021, 7, 15, 0, 0, 0)\n",
    "df_day1 = df.loc[df.datetime_os < dateb, :]\n",
    "\n",
    "df_day1.columns\n",
    "df_day1.sort_values(by=\"event_type\").event_type.unique()"
   ]
  },
  {
   "cell_type": "code",
   "execution_count": 48,
   "id": "180d3549",
   "metadata": {},
   "outputs": [],
   "source": [
    "# Let's say when an event is \"request_payment_submission_success\"\n",
    "# this means somebody purchased. How many sessions we have in day1?\n",
    "# How many events of this kind?\n",
    "\n",
    "df_purch = df_day1.loc[df_day1.event_type == \"request_payment_submission_success\", :]\n",
    "tot_pur_d1 = df_purch.shape[0]\n",
    "\n",
    "tot_sess_d1 = df_day1.session_id.nunique()\n",
    "\n",
    "conversion_day1 = tot_pur_d1/tot_sess_d1"
   ]
  },
  {
   "cell_type": "code",
   "execution_count": 49,
   "id": "79e31b63",
   "metadata": {},
   "outputs": [],
   "source": [
    "# conversion is aprox 0.1756%"
   ]
  },
  {
   "cell_type": "code",
   "execution_count": 51,
   "id": "fc06ca8d",
   "metadata": {},
   "outputs": [],
   "source": [
    "# Conversion rate for users in Berlin?\n",
    "\n",
    "df_day1.user_location_city.value_counts()\n",
    "df_berlin = df_day1.loc[df_day1.user_location_city == \"Berlin\", :]\n",
    "\n",
    "berlin_sessions = df_berlin.session_id.nunique()\n",
    "df_purch_b = df_berlin.loc[df_berlin.event_type == \"request_payment_submission_success\", :]\n",
    "\n",
    "conversion_berlin = df_purch_b.shape[0]/berlin_sessions"
   ]
  },
  {
   "cell_type": "code",
   "execution_count": 52,
   "id": "3e748b27",
   "metadata": {},
   "outputs": [],
   "source": [
    "# conversion for user located in Berlin is aprox 0.5%"
   ]
  },
  {
   "cell_type": "code",
   "execution_count": 53,
   "id": "6f8584e5",
   "metadata": {},
   "outputs": [],
   "source": [
    "df[\"test_groups\"] = df[\"test_groups\"].astype(\"object\")\n",
    "\n",
    "# We need to be able to access the dictionary in each row, which is why we use this function\n",
    "\n",
    "df[\"test_groups\"] = df[\"test_groups\"].map(eval)"
   ]
  },
  {
   "cell_type": "code",
   "execution_count": 54,
   "id": "cde9532d",
   "metadata": {},
   "outputs": [],
   "source": [
    "e = []\n",
    "\n",
    "for i in range(0, len(df)):\n",
    "    if \"rcsp\" in list(df[\"test_groups\"][i].keys()):\n",
    "        x = df[\"test_groups\"][i][\"rcsp\"]\n",
    "        e.append(x)\n",
    "    else:\n",
    "        e.append(\"no rcsp found in dictionary\")\n"
   ]
  },
  {
   "cell_type": "code",
   "execution_count": null,
   "id": "6ca68d0b",
   "metadata": {},
   "outputs": [],
   "source": [
    "# now we have a list which has, for each event, whether it was rscp=show or rscp=something else\n",
    "# let's add a new column to the df"
   ]
  },
  {
   "cell_type": "code",
   "execution_count": 55,
   "id": "193f8f34",
   "metadata": {},
   "outputs": [
    {
     "data": {
      "text/plain": [
       "show                           759083\n",
       "ref                            750683\n",
       "no rcsp found in dictionary         9\n",
       "Name: A/B, dtype: int64"
      ]
     },
     "execution_count": 55,
     "metadata": {},
     "output_type": "execute_result"
    }
   ],
   "source": [
    "df[\"A/B\"] = e\n",
    "df[\"A/B\"].value_counts()"
   ]
  },
  {
   "cell_type": "code",
   "execution_count": 56,
   "id": "67ecfbb8",
   "metadata": {},
   "outputs": [
    {
     "data": {
      "text/plain": [
       "search_page                 1098980\n",
       "apartment_view               388809\n",
       "request/initial               20108\n",
       "request/checkout               1288\n",
       "request/success                 321\n",
       "request/rental-agreement        269\n",
       "Name: page_type, dtype: int64"
      ]
     },
     "execution_count": 56,
     "metadata": {},
     "output_type": "execute_result"
    }
   ],
   "source": [
    "# How many events do we have on each page_type?\n",
    "\n",
    "df.page_type.value_counts()"
   ]
  },
  {
   "cell_type": "code",
   "execution_count": 57,
   "id": "b644a6c3",
   "metadata": {},
   "outputs": [
    {
     "data": {
      "text/plain": [
       "33605"
      ]
     },
     "execution_count": 57,
     "metadata": {},
     "output_type": "execute_result"
    }
   ],
   "source": [
    "# now, let's isolate the rows for the users that experienced faster loading time\n",
    "\n",
    "df_bt = df.loc[(df.page_type == \"search_page\") & (df[\"A/B\"] == \"show\"), :]\n",
    "\n",
    "# for these rows in df_bt, how many sessions we have?\n",
    "\n",
    "df_bt.session_id.nunique()"
   ]
  },
  {
   "cell_type": "code",
   "execution_count": 58,
   "id": "5a5f3f50",
   "metadata": {},
   "outputs": [
    {
     "data": {
      "text/html": [
       "<div>\n",
       "<style scoped>\n",
       "    .dataframe tbody tr th:only-of-type {\n",
       "        vertical-align: middle;\n",
       "    }\n",
       "\n",
       "    .dataframe tbody tr th {\n",
       "        vertical-align: top;\n",
       "    }\n",
       "\n",
       "    .dataframe thead th {\n",
       "        text-align: right;\n",
       "    }\n",
       "</style>\n",
       "<table border=\"1\" class=\"dataframe\">\n",
       "  <thead>\n",
       "    <tr style=\"text-align: right;\">\n",
       "      <th></th>\n",
       "      <th>datetime</th>\n",
       "      <th>event_type</th>\n",
       "      <th>test_groups</th>\n",
       "      <th>session_id</th>\n",
       "      <th>visitor_id</th>\n",
       "      <th>user_location_country</th>\n",
       "      <th>user_location_city</th>\n",
       "      <th>device_class</th>\n",
       "      <th>device_family</th>\n",
       "      <th>device_browser</th>\n",
       "      <th>...</th>\n",
       "      <th>is_internal_ip</th>\n",
       "      <th>datetime_os</th>\n",
       "      <th>day</th>\n",
       "      <th>weekday</th>\n",
       "      <th>wday</th>\n",
       "      <th>time</th>\n",
       "      <th>hour</th>\n",
       "      <th>datetime_om</th>\n",
       "      <th>ev</th>\n",
       "      <th>A/B</th>\n",
       "    </tr>\n",
       "  </thead>\n",
       "  <tbody>\n",
       "  </tbody>\n",
       "</table>\n",
       "<p>0 rows × 26 columns</p>\n",
       "</div>"
      ],
      "text/plain": [
       "Empty DataFrame\n",
       "Columns: [datetime, event_type, test_groups, session_id, visitor_id, user_location_country, user_location_city, device_class, device_family, device_browser, page_type, page_country, page_city, apartment_id, params, environemnt, is_internal_ip, datetime_os, day, weekday, wday, time, hour, datetime_om, ev, A/B]\n",
       "Index: []\n",
       "\n",
       "[0 rows x 26 columns]"
      ]
     },
     "execution_count": 58,
     "metadata": {},
     "output_type": "execute_result"
    }
   ],
   "source": [
    "df_bt.loc[df_bt.event_type == \"request_payment_submission_success\", :]\n",
    "\n",
    "# We do not have sales because we are on a search_page, however, we can isolate this\n",
    "# session_id that we know had faster loading times, and check how much they bought\n",
    "# how much time they spent on webpage, number of events"
   ]
  },
  {
   "cell_type": "code",
   "execution_count": 59,
   "id": "ef29cbf0",
   "metadata": {},
   "outputs": [],
   "source": [
    "B_sessions_total = df_bt.session_id.nunique()\n",
    "B_sessions = list(df_bt.session_id.unique())\n",
    "\n",
    "# how many of these sessions had a purchase? First let's filter df to only have these session_IDs\n",
    "\n",
    "df_B_sessions = df.loc[df.session_id.isin(B_sessions), :]\n",
    "\n",
    "# Now, out of the 33.605 sessions, how many sales we have?\n",
    "\n",
    "df_B_sessions.loc[df_B_sessions.event_type == \"request_payment_submission_success\", :]\n",
    "\n",
    "# we have 35 sales, what is the conversion then for B?\n",
    "\n",
    "conversion_B = 35/33605\n",
    "\n",
    "# conversion for B is around 0.001 or 0.1%. Now let's look at conversion for A, all the sessionids not in B\n",
    "\n",
    "df_A_sessions = df.loc[~df.session_id.isin(B_sessions), :]\n",
    "\n",
    "df_A_sessions.session_id.nunique()\n",
    "\n",
    "# Now, out of the 61094 sessions, how many sales?\n",
    "\n",
    "df_A_sessions.loc[df_A_sessions.event_type == \"request_payment_submission_success\", :]\n",
    "\n",
    "# We have 106 sales, what is the conversion for A then?\n",
    "\n",
    "conversion_A = 106/61094\n",
    "\n",
    "# the sessions that had faster loading times actually had worse conversion rate!"
   ]
  },
  {
   "cell_type": "code",
   "execution_count": 60,
   "id": "e87d41d0",
   "metadata": {},
   "outputs": [
    {
     "data": {
      "text/plain": [
       "13.330899924706191"
      ]
     },
     "execution_count": 60,
     "metadata": {},
     "output_type": "execute_result"
    }
   ],
   "source": [
    "# number of average events by session?\n",
    "\n",
    "df_B_sessions.shape[0]/33605\n",
    "df_A_sessions.shape[0]/61094"
   ]
  },
  {
   "cell_type": "code",
   "execution_count": 61,
   "id": "d96218d3",
   "metadata": {},
   "outputs": [
    {
     "data": {
      "text/plain": [
       "Timedelta('0 days 00:14:07.135872589')"
      ]
     },
     "execution_count": 61,
     "metadata": {},
     "output_type": "execute_result"
    }
   ],
   "source": [
    "# Now let's take cate of the average time spent by session on group A and B\n",
    "\n",
    "sessions_A = df_A_sessions[[\"session_id\", \"event_type\", \"datetime_os\"]].sort_values(by=[\"session_id\", \"datetime_os\"])\n",
    "\n",
    "ind_sessions_A = pd.Series(sessions_A[\"session_id\"].unique())\n",
    "ind_sessions_A = ind_sessions_A.reindex(ind_sessions_A)\n",
    "\n",
    "min_per_session_A = sessions_A.groupby(by=\"session_id\").datetime_os.min()\n",
    "max_per_session_A = sessions_A.groupby(by=\"session_id\").datetime_os.max()\n",
    "\n",
    "sessions_time_A = pd.concat([ind_sessions_A, min_per_session_A, max_per_session_A], axis=1, join=\"inner\")\n",
    "sessions_time_A = sessions_time_A.reset_index()\n",
    "sessions_time_A = sessions_time_A.drop(0, axis=1)\n",
    "sessions_time_A.rename(columns={\"index\" : \"session_id\", \"datetime_os\" : \"first_event\", \"datetime_os\" : \"last_event\"}, inplace=True)\n",
    "sessions_time_A[\"duration\"] = sessions_time_A.iloc[:, 2] - sessions_time_A.iloc[:, 1]\n",
    "\n",
    "sessions_time_A[\"duration\"].mean()"
   ]
  },
  {
   "cell_type": "code",
   "execution_count": 62,
   "id": "e7d4f3a9",
   "metadata": {},
   "outputs": [],
   "source": [
    "# For the A group (regular loading time), the sessions lasted on average 14:07 minutes. Now let's take a look at B"
   ]
  },
  {
   "cell_type": "code",
   "execution_count": 63,
   "id": "b7d34274",
   "metadata": {},
   "outputs": [
    {
     "data": {
      "text/plain": [
       "Timedelta('0 days 00:16:26.044189852')"
      ]
     },
     "execution_count": 63,
     "metadata": {},
     "output_type": "execute_result"
    }
   ],
   "source": [
    "sessions_B = df_B_sessions[[\"session_id\", \"event_type\", \"datetime_os\"]].sort_values(by=[\"session_id\", \"datetime_os\"])\n",
    "\n",
    "ind_sessions_B = pd.Series(sessions_B[\"session_id\"].unique())\n",
    "ind_sessions_B = ind_sessions_B.reindex(ind_sessions_B)\n",
    "\n",
    "min_per_session_B = sessions_B.groupby(by=\"session_id\").datetime_os.min()\n",
    "max_per_session_B = sessions_B.groupby(by=\"session_id\").datetime_os.max()\n",
    "\n",
    "sessions_time_B = pd.concat([ind_sessions_B, min_per_session_B, max_per_session_B], axis=1, join=\"inner\")\n",
    "sessions_time_B = sessions_time_B.reset_index()\n",
    "sessions_time_B = sessions_time_B.drop(0, axis=1)\n",
    "sessions_time_B.rename(columns={\"index\" : \"session_id\", \"datetime_os\" : \"first_event\", \"datetime_os\" : \"last_event\"}, inplace=True)\n",
    "sessions_time_B[\"duration\"] = sessions_time_B.iloc[:, 2] - sessions_time_B.iloc[:, 1]\n",
    "\n",
    "sessions_time_B[\"duration\"].mean()"
   ]
  },
  {
   "cell_type": "code",
   "execution_count": 64,
   "id": "be3ff647",
   "metadata": {},
   "outputs": [],
   "source": [
    "# For the B group (faster loading time), the sessions lasted on average 16:26 minutes, which is 2 minutes more than A, 1/7 more."
   ]
  },
  {
   "cell_type": "code",
   "execution_count": 65,
   "id": "cad05020",
   "metadata": {},
   "outputs": [
    {
     "data": {
      "image/png": "[encoded data removed]",
      "text/plain": [
       "<Figure size 432x288 with 1 Axes>"
      ]
     },
     "metadata": {
      "needs_background": "light"
     },
     "output_type": "display_data"
    }
   ],
   "source": [
    "# Cluster our users in logical groups based on the data you have at hand\n",
    "\n",
    "df.columns\n",
    "n_unique_visitors = df.visitor_id.nunique()\n",
    "\n",
    "# Visitor_id by number of events they each had?\n",
    "\n",
    "clu_n_events = df.groupby(by=\"visitor_id\", as_index=False).ev.sum().sort_values(by=\"ev\", ascending=False)\n",
    "clu_n_events.ev.describe()\n",
    "clu_n_events[\"n_events\"] = pd.cut(clu_n_events[\"ev\"], bins=[0, 1, 2, 3, 4, 5, 6, 7, 8, 9, 10, 20, 50, np.inf], labels=[\"1\", \"2\", \"3\", \"4\", \"5\", \"6\", \"7\", \"8\", \"9\", \"10\", \"10-20\", \"20-50\", \"50+\"])\n",
    "\n",
    "clu_n_events2 = clu_n_events.groupby(by=\"n_events\", as_index=False).visitor_id.count().sort_values(by=\"n_events\")\n",
    "\n",
    "plt.bar(\"n_events\", \"visitor_id\", data=clu_n_events2, edgecolor=\"black\")\n",
    "plt.title(\"Number of visitor ids with X events\")\n",
    "plt.xlabel(\"Number of events\")\n",
    "plt.ylabel(\"Number of visitors\")\n",
    "plt.xticks(rotation = 90)\n",
    "plt.show()"
   ]
  },
  {
   "cell_type": "code",
   "execution_count": 66,
   "id": "145d9de0",
   "metadata": {},
   "outputs": [
    {
     "data": {
      "image/png": "[encoded data removed]",
      "text/plain": [
       "<Figure size 432x288 with 1 Axes>"
      ]
     },
     "metadata": {
      "needs_background": "light"
     },
     "output_type": "display_data"
    }
   ],
   "source": [
    "# Visitor_id by number of sessions they had? First we have to drop duplicates, have 1 line for each visitor_id-session combination\n",
    "\n",
    "clu_n_sessions = df.drop_duplicates(subset=[\"visitor_id\", \"session_id\"], keep=\"first\")\n",
    "clu_n_sessions2 = clu_n_sessions.groupby(by=\"visitor_id\", as_index=False).session_id.count().sort_values(by=\"session_id\", ascending=False)\n",
    "clu_n_sessions2.session_id.describe()\n",
    "\n",
    "clu_n_sessions2[\"n_sessions\"] = pd.cut(clu_n_sessions2[\"session_id\"], bins=[0, 1, 2, 3, 4, 5, 6, 7, 8, 9, 10, np.inf], labels=[\"1\", \"2\", \"3\", \"4\", \"5\", \"6\", \"7\", \"8\", \"9\", \"10\", \"10+\"])\n",
    "\n",
    "clu_n_sessions3 = clu_n_sessions2.groupby(by=\"n_sessions\", as_index=False).visitor_id.count().sort_values(by=\"n_sessions\")\n",
    "\n",
    "plt.bar(\"n_sessions\", \"visitor_id\", data=clu_n_sessions3, edgecolor=\"black\")\n",
    "plt.title(\"Number of visitor ids with X sessions\")\n",
    "plt.xlabel(\"Number of sessions\")\n",
    "plt.ylabel(\"Number of visitors\")\n",
    "plt.xticks(rotation = 90)\n",
    "plt.show()"
   ]
  },
  {
   "cell_type": "code",
   "execution_count": 67,
   "id": "fe581974",
   "metadata": {},
   "outputs": [
    {
     "data": {
      "image/png": "[encoded data removed]",
      "text/plain": [
       "<Figure size 432x288 with 1 Axes>"
      ]
     },
     "metadata": {
      "needs_background": "light"
     },
     "output_type": "display_data"
    }
   ],
   "source": [
    "# Visitor_id by time of visit they had?\n",
    "\n",
    "Z = df[[\"visitor_id\", \"session_id\", \"datetime_os\", \"event_type\"]].sort_values(by=[\"visitor_id\", \"session_id\", \"datetime_os\"])\n",
    "\n",
    "Z2 = Z.groupby(by=[\"visitor_id\", \"session_id\"], as_index=False).datetime_os.min()\n",
    "\n",
    "Z2[\"hour\"] = Z2[\"datetime_os\"].dt.hour\n",
    "\n",
    "Z2[\"time_of_day\"] = pd.cut(Z2[\"hour\"], bins=[0, 8, 16, 30], labels=[\"0-8hs\", \"8-16hs\", \"16-23hs\"])\n",
    "Z2[\"time_of_day\"] = pd.Categorical(Z2[\"time_of_day\"], [\"0-8hs\", \"8-16hs\", \"16-23hs\"])\n",
    "\n",
    "Z2.time_of_day.value_counts()\n",
    "Z2.time_of_day.value_counts(normalize=True)\n",
    "\n",
    "Z2.head()\n",
    "\n",
    "Z2 = pd.get_dummies(Z2, columns=[\"time_of_day\"])\n",
    "\n",
    "Z3 = Z2.groupby(by=\"visitor_id\").session_id.count()\n",
    "\n",
    "Z2.set_index(keys=\"visitor_id\", inplace=True)\n",
    "\n",
    "Z4 = Z2.groupby(by=\"visitor_id\")[\"time_of_day_0-8hs\"].sum()\n",
    "Z5 = Z2.groupby(by=\"visitor_id\")[\"time_of_day_8-16hs\"].sum()\n",
    "Z6 = Z2.groupby(by=\"visitor_id\")[\"time_of_day_16-23hs\"].sum()\n",
    "\n",
    "Z7 = pd.concat([Z3, Z4, Z5, Z6], axis=1, join=\"inner\")\n",
    "\n",
    "Z7.columns\n",
    "\n",
    "Z7[\"per_0_8\"] = Z7[\"time_of_day_0-8hs\"]/Z7[\"session_id\"]\n",
    "Z7[\"per_8_16\"] = Z7[\"time_of_day_8-16hs\"]/Z7[\"session_id\"]\n",
    "Z7[\"per_16_23\"] = Z7[\"time_of_day_16-23hs\"]/Z7[\"session_id\"]\n",
    "\n",
    "def foo(d=Z7):\n",
    "        a = \"early morning\"\n",
    "        b = \"morning to afternoon\"\n",
    "        c = \"afternoon to night\"\n",
    "        \n",
    "        if d[\"per_0_8\"] >= 0.5:\n",
    "            return a\n",
    "        elif d[\"per_8_16\"] >= 0.5:\n",
    "            return b\n",
    "        elif d[\"per_16_23\"] >= 0.5:\n",
    "            return c\n",
    "        else:\n",
    "            return \"no preference\"\n",
    "\n",
    "def foo2(d=Z7):\n",
    "        a = \"early morning\"\n",
    "        b = \"morning to afternoon\"\n",
    "        c = \"afternoon to night\"\n",
    "        \n",
    "        if max(d[\"per_0_8\"], d[\"per_8_16\"], d[\"per_16_23\"]) == d[\"per_0_8\"]:\n",
    "            return a\n",
    "        elif max(d[\"per_0_8\"], d[\"per_8_16\"], d[\"per_16_23\"]) == d[\"per_8_16\"]:\n",
    "            return b\n",
    "        elif max(d[\"per_0_8\"], d[\"per_8_16\"], d[\"per_16_23\"]) == d[\"per_16_23\"]:\n",
    "            return c\n",
    "        else:\n",
    "            return \"no preference\"\n",
    "\n",
    "Z7[\"preferred_visit_time\"] = Z7.apply(foo2, axis=1)\n",
    "\n",
    "Z7[\"preferred_visit_time\"].value_counts()\n",
    "Z8 = Z7.groupby(by=\"preferred_visit_time\", as_index=False).session_id.count()\n",
    "Z8[\"preferred_visit_time\"] = pd.Categorical(Z8.preferred_visit_time, [\"early morning\", \"morning to afternoon\", \"afternoon to night\"], ordered=True)\n",
    "Z8 = Z8.sort_values(by=\"preferred_visit_time\")\n",
    "\n",
    "plt.bar(\"preferred_visit_time\", \"session_id\", data=Z8, edgecolor=\"black\")\n",
    "plt.title(\"Number of visitor ids with X preferred visiting time\")\n",
    "plt.xlabel(\"Time of session preference\")\n",
    "plt.ylabel(\"Number of visitors\")\n",
    "plt.xticks(rotation = 90)\n",
    "plt.show()"
   ]
  },
  {
   "cell_type": "code",
   "execution_count": 69,
   "id": "45aa9856",
   "metadata": {},
   "outputs": [
    {
     "data": {
      "text/html": [
       "<div>\n",
       "<style scoped>\n",
       "    .dataframe tbody tr th:only-of-type {\n",
       "        vertical-align: middle;\n",
       "    }\n",
       "\n",
       "    .dataframe tbody tr th {\n",
       "        vertical-align: top;\n",
       "    }\n",
       "\n",
       "    .dataframe thead th {\n",
       "        text-align: right;\n",
       "    }\n",
       "</style>\n",
       "<table border=\"1\" class=\"dataframe\">\n",
       "  <thead>\n",
       "    <tr style=\"text-align: right;\">\n",
       "      <th></th>\n",
       "      <th>duration</th>\n",
       "    </tr>\n",
       "  </thead>\n",
       "  <tbody>\n",
       "    <tr>\n",
       "      <th>count</th>\n",
       "      <td>80419</td>\n",
       "    </tr>\n",
       "    <tr>\n",
       "      <th>mean</th>\n",
       "      <td>0 days 00:11:10.561564801</td>\n",
       "    </tr>\n",
       "    <tr>\n",
       "      <th>std</th>\n",
       "      <td>0 days 01:33:26.836940211</td>\n",
       "    </tr>\n",
       "    <tr>\n",
       "      <th>min</th>\n",
       "      <td>0 days 00:00:00</td>\n",
       "    </tr>\n",
       "    <tr>\n",
       "      <th>25%</th>\n",
       "      <td>0 days 00:00:00</td>\n",
       "    </tr>\n",
       "    <tr>\n",
       "      <th>50%</th>\n",
       "      <td>0 days 00:00:38</td>\n",
       "    </tr>\n",
       "    <tr>\n",
       "      <th>75%</th>\n",
       "      <td>0 days 00:03:08</td>\n",
       "    </tr>\n",
       "    <tr>\n",
       "      <th>max</th>\n",
       "      <td>4 days 03:17:05</td>\n",
       "    </tr>\n",
       "  </tbody>\n",
       "</table>\n",
       "</div>"
      ],
      "text/plain": [
       "                        duration\n",
       "count                      80419\n",
       "mean   0 days 00:11:10.561564801\n",
       "std    0 days 01:33:26.836940211\n",
       "min              0 days 00:00:00\n",
       "25%              0 days 00:00:00\n",
       "50%              0 days 00:00:38\n",
       "75%              0 days 00:03:08\n",
       "max              4 days 03:17:05"
      ]
     },
     "execution_count": 69,
     "metadata": {},
     "output_type": "execute_result"
    }
   ],
   "source": [
    "# visitor_id by avg length of visit (session)?\n",
    "\n",
    "sessions2 = df[[\"visitor_id\", \"session_id\", \"event_type\", \"datetime_os\"]].sort_values(by=[\"visitor_id\", \"session_id\", \"datetime_os\"])\n",
    "vis_ses = sessions2.groupby(by=[\"visitor_id\", \"session_id\"]).event_type.count()\n",
    "\n",
    "min_per_session2 = sessions2.groupby(by=[\"visitor_id\", \"session_id\"]).datetime_os.min()\n",
    "max_per_session2 = sessions2.groupby(by=[\"visitor_id\", \"session_id\"]).datetime_os.max()\n",
    "\n",
    "visit_time = pd.concat([vis_ses, min_per_session2, max_per_session2], axis=1, join=\"inner\")\n",
    "visit_time = visit_time.reset_index()\n",
    "visit_time = visit_time.drop(\"event_type\", axis=1)\n",
    "visit_time[\"duration\"] = visit_time.iloc[:, 3] - visit_time.iloc[:, 2]\n",
    "\n",
    "visit_time.dtypes\n",
    "final = pd.DataFrame(visit_time.groupby(by=\"visitor_id\").duration.mean(numeric_only=False))\n",
    "final.describe()"
   ]
  },
  {
   "cell_type": "code",
   "execution_count": 70,
   "id": "4c3e3645",
   "metadata": {},
   "outputs": [],
   "source": [
    "# I need to make some bins for the avg duration of sessions by visitor_id\n",
    "\n",
    "e2=[]\n",
    "\n",
    "def foo3(d,c):\n",
    "    for i in range(0, len(d)):\n",
    "        X = d[c][i].total_seconds()\n",
    "        e2.append(X)\n",
    "    return e2\n",
    "\n",
    "final[\"seconds\"] = foo3(final, \"duration\")\n",
    "final[\"minutes\"] = final[\"seconds\"]/60\n"
   ]
  },
  {
   "cell_type": "code",
   "execution_count": 71,
   "id": "37ae2610",
   "metadata": {},
   "outputs": [],
   "source": [
    "# Let's remove all visitor for which average duration is 0. We have 80419 visitors\n",
    "\n",
    "final = final[final[\"minutes\"] > 0]\n",
    "\n",
    "# Now we have 58029 visitors who their avg sessions last more than a minute\n",
    "# this means we have 22390 visitors whose session lasted 0."
   ]
  },
  {
   "cell_type": "code",
   "execution_count": 72,
   "id": "7509d431",
   "metadata": {},
   "outputs": [
    {
     "data": {
      "image/png": "[encoded data removed]",
      "text/plain": [
       "<Figure size 432x288 with 1 Axes>"
      ]
     },
     "metadata": {
      "needs_background": "light"
     },
     "output_type": "display_data"
    }
   ],
   "source": [
    "final.minutes.describe()\n",
    "final[\"interval\"] = pd.cut(final[\"minutes\"], bins=[0, 0.5, 1, 1.5, 2, 4, 6, 10, 20, 30, np.inf], \n",
    "                           labels=[\"0-0.5 min\", \"0.5-1 min\", \"1-1.5 min\", \"1.5-2 min\", \"2-4 min\", \"4-6 min\", \"6-10 min\", \"10-20 min\", \"20-30 min\", \"30+ min\"])\n",
    "\n",
    "final2 = final.groupby(by=\"interval\", as_index=False).minutes.count()\n",
    "\n",
    "plt.bar(\"interval\", \"minutes\", data=final2, edgecolor=\"black\")\n",
    "plt.title(\"Number of visitor ids with the average session lasting...\")\n",
    "plt.xlabel(\"Avg duration of session\")\n",
    "plt.ylabel(\"Number of visitors\")\n",
    "plt.xticks(rotation = 90)\n",
    "plt.show()"
   ]
  },
  {
   "cell_type": "code",
   "execution_count": 73,
   "id": "aa812265",
   "metadata": {},
   "outputs": [
    {
     "data": {
      "image/png": "[encoded data removed]",
      "text/plain": [
       "<Figure size 432x288 with 1 Axes>"
      ]
     },
     "metadata": {
      "needs_background": "light"
     },
     "output_type": "display_data"
    }
   ],
   "source": [
    "# visitor_id by location, user_location_country\n",
    "\n",
    "df.columns\n",
    "df.visitor_id.nunique()\n",
    "\n",
    "df_visitors = df.drop_duplicates(subset=\"visitor_id\", keep=\"first\")\n",
    "\n",
    "df_visitors[\"user_location_country\"].value_counts().head(20).values\n",
    "\n",
    "plt.bar(df_visitors[\"user_location_country\"].value_counts().head(20).index, df_visitors[\"user_location_country\"].value_counts().head(20).values, data=df_visitors[\"user_location_country\"].value_counts().head(20), edgecolor=\"black\")\n",
    "plt.title(\"Number of visitor ids from each country\")\n",
    "plt.xlabel(\"Country of origin\")\n",
    "plt.ylabel(\"Number of visitors\")\n",
    "plt.xticks(rotation = 90)\n",
    "plt.show()"
   ]
  },
  {
   "cell_type": "code",
   "execution_count": 74,
   "id": "bde91b55",
   "metadata": {},
   "outputs": [
    {
     "data": {
      "text/plain": [
       "Mobile Safari                 23949\n",
       "Chrome                        23091\n",
       "Chrome Mobile                 15530\n",
       "Safari                         6796\n",
       "Firefox                        2727\n",
       "Samsung Internet               2473\n",
       "Chrome Mobile iOS              2279\n",
       "Facebook                       1114\n",
       "Mobile Safari UI/WKWebView     1056\n",
       "Chrome Mobile WebView           523\n",
       "Opera                           234\n",
       "Firefox Mobile                  191\n",
       "AdsBot-Google                   137\n",
       "Opera Mobile                     86\n",
       "Android                          71\n",
       "Amazon Silk                      67\n",
       "Firefox iOS                      64\n",
       "Googlebot                        31\n",
       "UC Browser                       29\n",
       "Edge                             28\n",
       "Apple Mail                       21\n",
       "HeadlessChrome                   13\n",
       "QQ Browser Mobile                11\n",
       "Yandex Browser                   10\n",
       "Pinterestbot                     10\n",
       "Other                             8\n",
       "Puffin                            5\n",
       "Maxthon                           4\n",
       "IE                                2\n",
       "Baiduspider-render                2\n",
       "WebKit Nightly                    2\n",
       "Coc Coc                           1\n",
       "Chromium                          1\n",
       "Epiphany                          1\n",
       "Midori                            1\n",
       "BrandVeritySpider                 1\n",
       "Sogou Explorer                    1\n",
       "Vivaldi                           1\n",
       "Iron                              1\n",
       "BingPreview                       0\n",
       "Web-Crawler                       0\n",
       "Name: device_browser, dtype: int64"
      ]
     },
     "execution_count": 74,
     "metadata": {},
     "output_type": "execute_result"
    }
   ],
   "source": [
    "# visitor_id by device\n",
    "\n",
    "df_visitors[\"device_class\"].value_counts()\n",
    "df_visitors[\"device_family\"].value_counts()\n",
    "df_visitors[\"device_browser\"].value_counts()"
   ]
  },
  {
   "cell_type": "code",
   "execution_count": 75,
   "id": "026c7e46",
   "metadata": {},
   "outputs": [
    {
     "data": {
      "text/plain": [
       "search_page                 56262\n",
       "apartment_view              24171\n",
       "request/initial               102\n",
       "request/rental-agreement       23\n",
       "request/success                11\n",
       "request/checkout                3\n",
       "Name: page_type, dtype: int64"
      ]
     },
     "execution_count": 75,
     "metadata": {},
     "output_type": "execute_result"
    }
   ],
   "source": [
    "# visitor_id by page type\n",
    "\n",
    "df_visitors[\"page_type\"].value_counts()"
   ]
  },
  {
   "cell_type": "code",
   "execution_count": 76,
   "id": "c4946c15",
   "metadata": {},
   "outputs": [],
   "source": [
    "# As a final exercise, let's look at sessions that did buy vs all the other sessions. What's the difference?\n",
    "\n",
    "df.columns\n",
    "df_success = df.loc[df.event_type == \"request_payment_submission_success\", :]"
   ]
  },
  {
   "cell_type": "code",
   "execution_count": 77,
   "id": "69e7bd65",
   "metadata": {},
   "outputs": [],
   "source": [
    "# Now let's isolate the sessions that had a success event\n",
    "\n",
    "session_success = list(df_success.session_id.unique())"
   ]
  },
  {
   "cell_type": "code",
   "execution_count": 78,
   "id": "f917e34a",
   "metadata": {},
   "outputs": [
    {
     "data": {
      "text/plain": [
       "62.41726618705036"
      ]
     },
     "execution_count": 78,
     "metadata": {},
     "output_type": "execute_result"
    }
   ],
   "source": [
    "# Now let's analyze this sessions (number of events, duration, most common events, device)\n",
    "\n",
    "had_a_sale = df.loc[df.session_id.isin(session_success), :]\n",
    "N = had_a_sale.groupby(by=\"session_id\", as_index=False).event_type.count()\n",
    "N.event_type.min()\n",
    "N.event_type.max()\n",
    "N.event_type.mean()"
   ]
  },
  {
   "cell_type": "code",
   "execution_count": 79,
   "id": "098aed47",
   "metadata": {},
   "outputs": [
    {
     "data": {
      "text/plain": [
       "Timedelta('0 days 01:56:39.503597122')"
      ]
     },
     "execution_count": 79,
     "metadata": {},
     "output_type": "execute_result"
    }
   ],
   "source": [
    "N2 = sessions_time.loc[sessions_time.session_id.isin(session_success), :]\n",
    "\n",
    "N2.duration.min()\n",
    "N2.duration.max()\n",
    "N2.duration.mean()"
   ]
  },
  {
   "cell_type": "code",
   "execution_count": 80,
   "id": "3113d832",
   "metadata": {},
   "outputs": [
    {
     "data": {
      "text/html": [
       "<div>\n",
       "<style scoped>\n",
       "    .dataframe tbody tr th:only-of-type {\n",
       "        vertical-align: middle;\n",
       "    }\n",
       "\n",
       "    .dataframe tbody tr th {\n",
       "        vertical-align: top;\n",
       "    }\n",
       "\n",
       "    .dataframe thead th {\n",
       "        text-align: right;\n",
       "    }\n",
       "</style>\n",
       "<table border=\"1\" class=\"dataframe\">\n",
       "  <thead>\n",
       "    <tr style=\"text-align: right;\">\n",
       "      <th></th>\n",
       "      <th>event_type</th>\n",
       "      <th>ev</th>\n",
       "    </tr>\n",
       "  </thead>\n",
       "  <tbody>\n",
       "    <tr>\n",
       "      <th>64</th>\n",
       "      <td>page_view</td>\n",
       "      <td>1686</td>\n",
       "    </tr>\n",
       "    <tr>\n",
       "      <th>127</th>\n",
       "      <td>search_list_cached</td>\n",
       "      <td>778</td>\n",
       "    </tr>\n",
       "    <tr>\n",
       "      <th>128</th>\n",
       "      <td>search_map_cached</td>\n",
       "      <td>637</td>\n",
       "    </tr>\n",
       "    <tr>\n",
       "      <th>95</th>\n",
       "      <td>request_state_transition</td>\n",
       "      <td>382</td>\n",
       "    </tr>\n",
       "    <tr>\n",
       "      <th>67</th>\n",
       "      <td>payment_open</td>\n",
       "      <td>269</td>\n",
       "    </tr>\n",
       "    <tr>\n",
       "      <th>108</th>\n",
       "      <td>search_apartment_opened</td>\n",
       "      <td>250</td>\n",
       "    </tr>\n",
       "    <tr>\n",
       "      <th>8</th>\n",
       "      <td>apartment_date_init</td>\n",
       "      <td>242</td>\n",
       "    </tr>\n",
       "    <tr>\n",
       "      <th>62</th>\n",
       "      <td>movein_date_open</td>\n",
       "      <td>207</td>\n",
       "    </tr>\n",
       "    <tr>\n",
       "      <th>124</th>\n",
       "      <td>search_filter_selected</td>\n",
       "      <td>186</td>\n",
       "    </tr>\n",
       "    <tr>\n",
       "      <th>7</th>\n",
       "      <td>apartment_date_change</td>\n",
       "      <td>186</td>\n",
       "    </tr>\n",
       "    <tr>\n",
       "      <th>92</th>\n",
       "      <td>request_sent</td>\n",
       "      <td>166</td>\n",
       "    </tr>\n",
       "    <tr>\n",
       "      <th>87</th>\n",
       "      <td>request_payment_submission_success</td>\n",
       "      <td>141</td>\n",
       "    </tr>\n",
       "    <tr>\n",
       "      <th>129</th>\n",
       "      <td>search_map_marker_open</td>\n",
       "      <td>129</td>\n",
       "    </tr>\n",
       "    <tr>\n",
       "      <th>13</th>\n",
       "      <td>apartment_gallery_opened</td>\n",
       "      <td>126</td>\n",
       "    </tr>\n",
       "    <tr>\n",
       "      <th>119</th>\n",
       "      <td>search_date_change</td>\n",
       "      <td>123</td>\n",
       "    </tr>\n",
       "    <tr>\n",
       "      <th>12</th>\n",
       "      <td>apartment_gallery_closed</td>\n",
       "      <td>117</td>\n",
       "    </tr>\n",
       "    <tr>\n",
       "      <th>122</th>\n",
       "      <td>search_filter_close</td>\n",
       "      <td>111</td>\n",
       "    </tr>\n",
       "    <tr>\n",
       "      <th>32</th>\n",
       "      <td>apartment_section_location_showmap</td>\n",
       "      <td>102</td>\n",
       "    </tr>\n",
       "    <tr>\n",
       "      <th>82</th>\n",
       "      <td>request_landlord-T&amp;C-checkbox-marked</td>\n",
       "      <td>93</td>\n",
       "    </tr>\n",
       "    <tr>\n",
       "      <th>27</th>\n",
       "      <td>apartment_section_description_show-more</td>\n",
       "      <td>93</td>\n",
       "    </tr>\n",
       "  </tbody>\n",
       "</table>\n",
       "</div>"
      ],
      "text/plain": [
       "                                  event_type    ev\n",
       "64                                 page_view  1686\n",
       "127                       search_list_cached   778\n",
       "128                        search_map_cached   637\n",
       "95                  request_state_transition   382\n",
       "67                              payment_open   269\n",
       "108                  search_apartment_opened   250\n",
       "8                        apartment_date_init   242\n",
       "62                          movein_date_open   207\n",
       "124                   search_filter_selected   186\n",
       "7                      apartment_date_change   186\n",
       "92                              request_sent   166\n",
       "87        request_payment_submission_success   141\n",
       "129                   search_map_marker_open   129\n",
       "13                  apartment_gallery_opened   126\n",
       "119                       search_date_change   123\n",
       "12                  apartment_gallery_closed   117\n",
       "122                      search_filter_close   111\n",
       "32        apartment_section_location_showmap   102\n",
       "82      request_landlord-T&C-checkbox-marked    93\n",
       "27   apartment_section_description_show-more    93"
      ]
     },
     "execution_count": 80,
     "metadata": {},
     "output_type": "execute_result"
    }
   ],
   "source": [
    "had_a_sale.groupby(by=\"event_type\", as_index=False).ev.count().sort_values(by=\"ev\", ascending=False).head(20)"
   ]
  },
  {
   "cell_type": "code",
   "execution_count": 81,
   "id": "1cc02a58",
   "metadata": {},
   "outputs": [
    {
     "data": {
      "text/html": [
       "<div>\n",
       "<style scoped>\n",
       "    .dataframe tbody tr th:only-of-type {\n",
       "        vertical-align: middle;\n",
       "    }\n",
       "\n",
       "    .dataframe tbody tr th {\n",
       "        vertical-align: top;\n",
       "    }\n",
       "\n",
       "    .dataframe thead th {\n",
       "        text-align: right;\n",
       "    }\n",
       "</style>\n",
       "<table border=\"1\" class=\"dataframe\">\n",
       "  <thead>\n",
       "    <tr style=\"text-align: right;\">\n",
       "      <th></th>\n",
       "      <th>device_browser</th>\n",
       "      <th>event_type</th>\n",
       "    </tr>\n",
       "  </thead>\n",
       "  <tbody>\n",
       "    <tr>\n",
       "      <th>7</th>\n",
       "      <td>Chrome</td>\n",
       "      <td>73</td>\n",
       "    </tr>\n",
       "    <tr>\n",
       "      <th>25</th>\n",
       "      <td>Mobile Safari</td>\n",
       "      <td>24</td>\n",
       "    </tr>\n",
       "    <tr>\n",
       "      <th>33</th>\n",
       "      <td>Safari</td>\n",
       "      <td>14</td>\n",
       "    </tr>\n",
       "    <tr>\n",
       "      <th>16</th>\n",
       "      <td>Firefox</td>\n",
       "      <td>9</td>\n",
       "    </tr>\n",
       "    <tr>\n",
       "      <th>8</th>\n",
       "      <td>Chrome Mobile</td>\n",
       "      <td>8</td>\n",
       "    </tr>\n",
       "    <tr>\n",
       "      <th>34</th>\n",
       "      <td>Samsung Internet</td>\n",
       "      <td>6</td>\n",
       "    </tr>\n",
       "    <tr>\n",
       "      <th>9</th>\n",
       "      <td>Chrome Mobile WebView</td>\n",
       "      <td>2</td>\n",
       "    </tr>\n",
       "    <tr>\n",
       "      <th>10</th>\n",
       "      <td>Chrome Mobile iOS</td>\n",
       "      <td>2</td>\n",
       "    </tr>\n",
       "    <tr>\n",
       "      <th>17</th>\n",
       "      <td>Firefox Mobile</td>\n",
       "      <td>1</td>\n",
       "    </tr>\n",
       "    <tr>\n",
       "      <th>35</th>\n",
       "      <td>Sogou Explorer</td>\n",
       "      <td>0</td>\n",
       "    </tr>\n",
       "    <tr>\n",
       "      <th>39</th>\n",
       "      <td>WebKit Nightly</td>\n",
       "      <td>0</td>\n",
       "    </tr>\n",
       "    <tr>\n",
       "      <th>26</th>\n",
       "      <td>Mobile Safari UI/WKWebView</td>\n",
       "      <td>0</td>\n",
       "    </tr>\n",
       "    <tr>\n",
       "      <th>27</th>\n",
       "      <td>Opera</td>\n",
       "      <td>0</td>\n",
       "    </tr>\n",
       "    <tr>\n",
       "      <th>28</th>\n",
       "      <td>Opera Mobile</td>\n",
       "      <td>0</td>\n",
       "    </tr>\n",
       "    <tr>\n",
       "      <th>29</th>\n",
       "      <td>Other</td>\n",
       "      <td>0</td>\n",
       "    </tr>\n",
       "    <tr>\n",
       "      <th>31</th>\n",
       "      <td>Puffin</td>\n",
       "      <td>0</td>\n",
       "    </tr>\n",
       "    <tr>\n",
       "      <th>30</th>\n",
       "      <td>Pinterestbot</td>\n",
       "      <td>0</td>\n",
       "    </tr>\n",
       "    <tr>\n",
       "      <th>36</th>\n",
       "      <td>UC Browser</td>\n",
       "      <td>0</td>\n",
       "    </tr>\n",
       "    <tr>\n",
       "      <th>32</th>\n",
       "      <td>QQ Browser Mobile</td>\n",
       "      <td>0</td>\n",
       "    </tr>\n",
       "    <tr>\n",
       "      <th>38</th>\n",
       "      <td>Web-Crawler</td>\n",
       "      <td>0</td>\n",
       "    </tr>\n",
       "    <tr>\n",
       "      <th>24</th>\n",
       "      <td>Midori</td>\n",
       "      <td>0</td>\n",
       "    </tr>\n",
       "    <tr>\n",
       "      <th>37</th>\n",
       "      <td>Vivaldi</td>\n",
       "      <td>0</td>\n",
       "    </tr>\n",
       "    <tr>\n",
       "      <th>0</th>\n",
       "      <td>AdsBot-Google</td>\n",
       "      <td>0</td>\n",
       "    </tr>\n",
       "    <tr>\n",
       "      <th>20</th>\n",
       "      <td>HeadlessChrome</td>\n",
       "      <td>0</td>\n",
       "    </tr>\n",
       "    <tr>\n",
       "      <th>23</th>\n",
       "      <td>Maxthon</td>\n",
       "      <td>0</td>\n",
       "    </tr>\n",
       "    <tr>\n",
       "      <th>12</th>\n",
       "      <td>Coc Coc</td>\n",
       "      <td>0</td>\n",
       "    </tr>\n",
       "    <tr>\n",
       "      <th>2</th>\n",
       "      <td>Android</td>\n",
       "      <td>0</td>\n",
       "    </tr>\n",
       "    <tr>\n",
       "      <th>3</th>\n",
       "      <td>Apple Mail</td>\n",
       "      <td>0</td>\n",
       "    </tr>\n",
       "    <tr>\n",
       "      <th>4</th>\n",
       "      <td>Baiduspider-render</td>\n",
       "      <td>0</td>\n",
       "    </tr>\n",
       "    <tr>\n",
       "      <th>5</th>\n",
       "      <td>BingPreview</td>\n",
       "      <td>0</td>\n",
       "    </tr>\n",
       "    <tr>\n",
       "      <th>6</th>\n",
       "      <td>BrandVeritySpider</td>\n",
       "      <td>0</td>\n",
       "    </tr>\n",
       "    <tr>\n",
       "      <th>11</th>\n",
       "      <td>Chromium</td>\n",
       "      <td>0</td>\n",
       "    </tr>\n",
       "    <tr>\n",
       "      <th>13</th>\n",
       "      <td>Edge</td>\n",
       "      <td>0</td>\n",
       "    </tr>\n",
       "    <tr>\n",
       "      <th>22</th>\n",
       "      <td>Iron</td>\n",
       "      <td>0</td>\n",
       "    </tr>\n",
       "    <tr>\n",
       "      <th>14</th>\n",
       "      <td>Epiphany</td>\n",
       "      <td>0</td>\n",
       "    </tr>\n",
       "    <tr>\n",
       "      <th>15</th>\n",
       "      <td>Facebook</td>\n",
       "      <td>0</td>\n",
       "    </tr>\n",
       "    <tr>\n",
       "      <th>18</th>\n",
       "      <td>Firefox iOS</td>\n",
       "      <td>0</td>\n",
       "    </tr>\n",
       "    <tr>\n",
       "      <th>19</th>\n",
       "      <td>Googlebot</td>\n",
       "      <td>0</td>\n",
       "    </tr>\n",
       "    <tr>\n",
       "      <th>1</th>\n",
       "      <td>Amazon Silk</td>\n",
       "      <td>0</td>\n",
       "    </tr>\n",
       "    <tr>\n",
       "      <th>21</th>\n",
       "      <td>IE</td>\n",
       "      <td>0</td>\n",
       "    </tr>\n",
       "    <tr>\n",
       "      <th>40</th>\n",
       "      <td>Yandex Browser</td>\n",
       "      <td>0</td>\n",
       "    </tr>\n",
       "  </tbody>\n",
       "</table>\n",
       "</div>"
      ],
      "text/plain": [
       "                device_browser  event_type\n",
       "7                       Chrome          73\n",
       "25               Mobile Safari          24\n",
       "33                      Safari          14\n",
       "16                     Firefox           9\n",
       "8                Chrome Mobile           8\n",
       "34            Samsung Internet           6\n",
       "9        Chrome Mobile WebView           2\n",
       "10           Chrome Mobile iOS           2\n",
       "17              Firefox Mobile           1\n",
       "35              Sogou Explorer           0\n",
       "39              WebKit Nightly           0\n",
       "26  Mobile Safari UI/WKWebView           0\n",
       "27                       Opera           0\n",
       "28                Opera Mobile           0\n",
       "29                       Other           0\n",
       "31                      Puffin           0\n",
       "30                Pinterestbot           0\n",
       "36                  UC Browser           0\n",
       "32           QQ Browser Mobile           0\n",
       "38                 Web-Crawler           0\n",
       "24                      Midori           0\n",
       "37                     Vivaldi           0\n",
       "0                AdsBot-Google           0\n",
       "20              HeadlessChrome           0\n",
       "23                     Maxthon           0\n",
       "12                     Coc Coc           0\n",
       "2                      Android           0\n",
       "3                   Apple Mail           0\n",
       "4           Baiduspider-render           0\n",
       "5                  BingPreview           0\n",
       "6            BrandVeritySpider           0\n",
       "11                    Chromium           0\n",
       "13                        Edge           0\n",
       "22                        Iron           0\n",
       "14                    Epiphany           0\n",
       "15                    Facebook           0\n",
       "18                 Firefox iOS           0\n",
       "19                   Googlebot           0\n",
       "1                  Amazon Silk           0\n",
       "21                          IE           0\n",
       "40              Yandex Browser           0"
      ]
     },
     "execution_count": 81,
     "metadata": {},
     "output_type": "execute_result"
    }
   ],
   "source": [
    "had_a_sale.columns\n",
    "\n",
    "N3 = had_a_sale.drop_duplicates(subset=[\"session_id\", \"visitor_id\"], keep=\"first\")\n",
    "\n",
    "N3.groupby(by=\"device_class\", as_index=False).event_type.count().sort_values(by=\"event_type\", ascending=False)\n",
    "N3.groupby(by=\"device_browser\", as_index=False).event_type.count().sort_values(by=\"event_type\", ascending=False)"
   ]
  },
  {
   "cell_type": "code",
   "execution_count": 82,
   "id": "17d749dd",
   "metadata": {},
   "outputs": [
    {
     "data": {
      "text/plain": [
       "15.818527918781726"
      ]
     },
     "execution_count": 82,
     "metadata": {},
     "output_type": "execute_result"
    }
   ],
   "source": [
    "# vs all the other sessions that did not end up in purchasing\n",
    "\n",
    "not_a_sale = df.loc[~df.session_id.isin(session_success), :]\n",
    "M = not_a_sale.groupby(by=\"session_id\", as_index=False).event_type.count()\n",
    "M.event_type.min()\n",
    "M.event_type.max()\n",
    "M.event_type.mean()"
   ]
  },
  {
   "cell_type": "code",
   "execution_count": 83,
   "id": "d38787c6",
   "metadata": {},
   "outputs": [
    {
     "data": {
      "text/plain": [
       "Timedelta('0 days 00:14:47.457730541')"
      ]
     },
     "execution_count": 83,
     "metadata": {},
     "output_type": "execute_result"
    }
   ],
   "source": [
    "M2 = sessions_time.loc[~sessions_time.session_id.isin(session_success), :]\n",
    "\n",
    "M2.duration.min()\n",
    "M2.duration.max()\n",
    "M2.duration.mean()"
   ]
  },
  {
   "cell_type": "code",
   "execution_count": 84,
   "id": "238777b5",
   "metadata": {},
   "outputs": [
    {
     "data": {
      "text/html": [
       "<div>\n",
       "<style scoped>\n",
       "    .dataframe tbody tr th:only-of-type {\n",
       "        vertical-align: middle;\n",
       "    }\n",
       "\n",
       "    .dataframe tbody tr th {\n",
       "        vertical-align: top;\n",
       "    }\n",
       "\n",
       "    .dataframe thead th {\n",
       "        text-align: right;\n",
       "    }\n",
       "</style>\n",
       "<table border=\"1\" class=\"dataframe\">\n",
       "  <thead>\n",
       "    <tr style=\"text-align: right;\">\n",
       "      <th></th>\n",
       "      <th>device_browser</th>\n",
       "      <th>event_type</th>\n",
       "    </tr>\n",
       "  </thead>\n",
       "  <tbody>\n",
       "    <tr>\n",
       "      <th>25</th>\n",
       "      <td>Mobile Safari</td>\n",
       "      <td>28713</td>\n",
       "    </tr>\n",
       "    <tr>\n",
       "      <th>7</th>\n",
       "      <td>Chrome</td>\n",
       "      <td>26390</td>\n",
       "    </tr>\n",
       "    <tr>\n",
       "      <th>8</th>\n",
       "      <td>Chrome Mobile</td>\n",
       "      <td>18998</td>\n",
       "    </tr>\n",
       "    <tr>\n",
       "      <th>33</th>\n",
       "      <td>Safari</td>\n",
       "      <td>7759</td>\n",
       "    </tr>\n",
       "    <tr>\n",
       "      <th>34</th>\n",
       "      <td>Samsung Internet</td>\n",
       "      <td>3066</td>\n",
       "    </tr>\n",
       "    <tr>\n",
       "      <th>16</th>\n",
       "      <td>Firefox</td>\n",
       "      <td>3034</td>\n",
       "    </tr>\n",
       "    <tr>\n",
       "      <th>10</th>\n",
       "      <td>Chrome Mobile iOS</td>\n",
       "      <td>2894</td>\n",
       "    </tr>\n",
       "    <tr>\n",
       "      <th>15</th>\n",
       "      <td>Facebook</td>\n",
       "      <td>1477</td>\n",
       "    </tr>\n",
       "    <tr>\n",
       "      <th>26</th>\n",
       "      <td>Mobile Safari UI/WKWebView</td>\n",
       "      <td>1368</td>\n",
       "    </tr>\n",
       "    <tr>\n",
       "      <th>9</th>\n",
       "      <td>Chrome Mobile WebView</td>\n",
       "      <td>585</td>\n",
       "    </tr>\n",
       "    <tr>\n",
       "      <th>19</th>\n",
       "      <td>Googlebot</td>\n",
       "      <td>325</td>\n",
       "    </tr>\n",
       "    <tr>\n",
       "      <th>27</th>\n",
       "      <td>Opera</td>\n",
       "      <td>271</td>\n",
       "    </tr>\n",
       "    <tr>\n",
       "      <th>17</th>\n",
       "      <td>Firefox Mobile</td>\n",
       "      <td>220</td>\n",
       "    </tr>\n",
       "    <tr>\n",
       "      <th>0</th>\n",
       "      <td>AdsBot-Google</td>\n",
       "      <td>159</td>\n",
       "    </tr>\n",
       "    <tr>\n",
       "      <th>28</th>\n",
       "      <td>Opera Mobile</td>\n",
       "      <td>95</td>\n",
       "    </tr>\n",
       "    <tr>\n",
       "      <th>2</th>\n",
       "      <td>Android</td>\n",
       "      <td>71</td>\n",
       "    </tr>\n",
       "    <tr>\n",
       "      <th>1</th>\n",
       "      <td>Amazon Silk</td>\n",
       "      <td>71</td>\n",
       "    </tr>\n",
       "    <tr>\n",
       "      <th>18</th>\n",
       "      <td>Firefox iOS</td>\n",
       "      <td>69</td>\n",
       "    </tr>\n",
       "    <tr>\n",
       "      <th>13</th>\n",
       "      <td>Edge</td>\n",
       "      <td>34</td>\n",
       "    </tr>\n",
       "    <tr>\n",
       "      <th>36</th>\n",
       "      <td>UC Browser</td>\n",
       "      <td>29</td>\n",
       "    </tr>\n",
       "    <tr>\n",
       "      <th>3</th>\n",
       "      <td>Apple Mail</td>\n",
       "      <td>24</td>\n",
       "    </tr>\n",
       "    <tr>\n",
       "      <th>40</th>\n",
       "      <td>Yandex Browser</td>\n",
       "      <td>16</td>\n",
       "    </tr>\n",
       "    <tr>\n",
       "      <th>20</th>\n",
       "      <td>HeadlessChrome</td>\n",
       "      <td>13</td>\n",
       "    </tr>\n",
       "    <tr>\n",
       "      <th>32</th>\n",
       "      <td>QQ Browser Mobile</td>\n",
       "      <td>11</td>\n",
       "    </tr>\n",
       "    <tr>\n",
       "      <th>30</th>\n",
       "      <td>Pinterestbot</td>\n",
       "      <td>10</td>\n",
       "    </tr>\n",
       "    <tr>\n",
       "      <th>29</th>\n",
       "      <td>Other</td>\n",
       "      <td>8</td>\n",
       "    </tr>\n",
       "    <tr>\n",
       "      <th>4</th>\n",
       "      <td>Baiduspider-render</td>\n",
       "      <td>8</td>\n",
       "    </tr>\n",
       "    <tr>\n",
       "      <th>31</th>\n",
       "      <td>Puffin</td>\n",
       "      <td>5</td>\n",
       "    </tr>\n",
       "    <tr>\n",
       "      <th>23</th>\n",
       "      <td>Maxthon</td>\n",
       "      <td>4</td>\n",
       "    </tr>\n",
       "    <tr>\n",
       "      <th>21</th>\n",
       "      <td>IE</td>\n",
       "      <td>2</td>\n",
       "    </tr>\n",
       "    <tr>\n",
       "      <th>39</th>\n",
       "      <td>WebKit Nightly</td>\n",
       "      <td>2</td>\n",
       "    </tr>\n",
       "    <tr>\n",
       "      <th>11</th>\n",
       "      <td>Chromium</td>\n",
       "      <td>1</td>\n",
       "    </tr>\n",
       "    <tr>\n",
       "      <th>12</th>\n",
       "      <td>Coc Coc</td>\n",
       "      <td>1</td>\n",
       "    </tr>\n",
       "    <tr>\n",
       "      <th>14</th>\n",
       "      <td>Epiphany</td>\n",
       "      <td>1</td>\n",
       "    </tr>\n",
       "    <tr>\n",
       "      <th>6</th>\n",
       "      <td>BrandVeritySpider</td>\n",
       "      <td>1</td>\n",
       "    </tr>\n",
       "    <tr>\n",
       "      <th>35</th>\n",
       "      <td>Sogou Explorer</td>\n",
       "      <td>1</td>\n",
       "    </tr>\n",
       "    <tr>\n",
       "      <th>24</th>\n",
       "      <td>Midori</td>\n",
       "      <td>1</td>\n",
       "    </tr>\n",
       "    <tr>\n",
       "      <th>37</th>\n",
       "      <td>Vivaldi</td>\n",
       "      <td>1</td>\n",
       "    </tr>\n",
       "    <tr>\n",
       "      <th>22</th>\n",
       "      <td>Iron</td>\n",
       "      <td>1</td>\n",
       "    </tr>\n",
       "    <tr>\n",
       "      <th>5</th>\n",
       "      <td>BingPreview</td>\n",
       "      <td>0</td>\n",
       "    </tr>\n",
       "    <tr>\n",
       "      <th>38</th>\n",
       "      <td>Web-Crawler</td>\n",
       "      <td>0</td>\n",
       "    </tr>\n",
       "  </tbody>\n",
       "</table>\n",
       "</div>"
      ],
      "text/plain": [
       "                device_browser  event_type\n",
       "25               Mobile Safari       28713\n",
       "7                       Chrome       26390\n",
       "8                Chrome Mobile       18998\n",
       "33                      Safari        7759\n",
       "34            Samsung Internet        3066\n",
       "16                     Firefox        3034\n",
       "10           Chrome Mobile iOS        2894\n",
       "15                    Facebook        1477\n",
       "26  Mobile Safari UI/WKWebView        1368\n",
       "9        Chrome Mobile WebView         585\n",
       "19                   Googlebot         325\n",
       "27                       Opera         271\n",
       "17              Firefox Mobile         220\n",
       "0                AdsBot-Google         159\n",
       "28                Opera Mobile          95\n",
       "2                      Android          71\n",
       "1                  Amazon Silk          71\n",
       "18                 Firefox iOS          69\n",
       "13                        Edge          34\n",
       "36                  UC Browser          29\n",
       "3                   Apple Mail          24\n",
       "40              Yandex Browser          16\n",
       "20              HeadlessChrome          13\n",
       "32           QQ Browser Mobile          11\n",
       "30                Pinterestbot          10\n",
       "29                       Other           8\n",
       "4           Baiduspider-render           8\n",
       "31                      Puffin           5\n",
       "23                     Maxthon           4\n",
       "21                          IE           2\n",
       "39              WebKit Nightly           2\n",
       "11                    Chromium           1\n",
       "12                     Coc Coc           1\n",
       "14                    Epiphany           1\n",
       "6            BrandVeritySpider           1\n",
       "35              Sogou Explorer           1\n",
       "24                      Midori           1\n",
       "37                     Vivaldi           1\n",
       "22                        Iron           1\n",
       "5                  BingPreview           0\n",
       "38                 Web-Crawler           0"
      ]
     },
     "execution_count": 84,
     "metadata": {},
     "output_type": "execute_result"
    }
   ],
   "source": [
    "not_a_sale.groupby(by=\"event_type\", as_index=False).ev.count().sort_values(by=\"ev\", ascending=False).head(20)\n",
    "\n",
    "not_a_sale.columns\n",
    "\n",
    "M3 = not_a_sale.drop_duplicates(subset=[\"session_id\", \"visitor_id\"], keep=\"first\")\n",
    "\n",
    "M3.groupby(by=\"device_class\", as_index=False).event_type.count().sort_values(by=\"event_type\", ascending=False)\n",
    "M3.groupby(by=\"device_browser\", as_index=False).event_type.count().sort_values(by=\"event_type\", ascending=False)\n"
   ]
  },
  {
   "cell_type": "code",
   "execution_count": 85,
   "id": "db347899",
   "metadata": {},
   "outputs": [],
   "source": [
    "# To finish, what are the events ONLY present when somebody buys? When somebody does not?\n",
    "\n",
    "ev_sales = set(had_a_sale.event_type.unique())\n",
    "ev_not_sales = set(not_a_sale.event_type.unique())"
   ]
  },
  {
   "cell_type": "code",
   "execution_count": 86,
   "id": "be19e489",
   "metadata": {},
   "outputs": [
    {
     "data": {
      "text/plain": [
       "{'payment_method_selected_cc',\n",
       " 'request_company-booking-checkbox-marked',\n",
       " 'request_payment_submission_success',\n",
       " 'request_summary_edit_paymentDetails'}"
      ]
     },
     "execution_count": 86,
     "metadata": {},
     "output_type": "execute_result"
    }
   ],
   "source": [
    "# events only in sessions in which there is a purchase\n",
    "\n",
    "ev_sales.difference(ev_not_sales)"
   ]
  },
  {
   "cell_type": "code",
   "execution_count": 87,
   "id": "a81b000b",
   "metadata": {},
   "outputs": [
    {
     "data": {
      "text/plain": [
       "{'Click on filter label',\n",
       " 'apartment_children_less',\n",
       " 'apartment_close_servicefee_modal',\n",
       " 'apartment_enhanced_cleaning_learn_more',\n",
       " 'apartment_open_servicefee_modal',\n",
       " 'apartment_section_location_collapsed',\n",
       " 'apartment_section_location_expanded',\n",
       " 'apartment_shared',\n",
       " 'apartment_shared_email-open',\n",
       " 'cancellation_flexible_learn_more',\n",
       " 'cookieconsent_marketing',\n",
       " 'cookieconsent_preferences',\n",
       " 'cookieconsent_statistics',\n",
       " 'partner_logo_clicked',\n",
       " 'request_find-another-apartment',\n",
       " 'request_homelike_package_selected_premium',\n",
       " 'request_user-auth_failed',\n",
       " 'request_user-auth_success',\n",
       " 'search_agent_sent',\n",
       " 'search_children_less',\n",
       " 'search_click_favorite',\n",
       " 'search_error_api_list',\n",
       " 'search_error_api_map_bulk',\n",
       " 'search_filter_reset-all',\n",
       " 'search_intercom_open',\n",
       " 'search_map_closed',\n",
       " 'search_map_open',\n",
       " 'search_toddler_less',\n",
       " 'search_toddler_more',\n",
       " 'trip_validation-apartment_unavailable',\n",
       " 'user_auth_logout',\n",
       " 'user_register_error'}"
      ]
     },
     "execution_count": 87,
     "metadata": {},
     "output_type": "execute_result"
    }
   ],
   "source": [
    "# events only in sessions in which there is not a purchase\n",
    "\n",
    "ev_not_sales.difference(ev_sales)"
   ]
  }
 ],
 "metadata": {
  "kernelspec": {
   "display_name": "Python 3",
   "language": "python",
   "name": "python3"
  },
  "language_info": {
   "codemirror_mode": {
    "name": "ipython",
    "version": 3
   },
   "file_extension": ".py",
   "mimetype": "text/x-python",
   "name": "python",
   "nbconvert_exporter": "python",
   "pygments_lexer": "ipython3",
   "version": "3.8.8"
  }
 },
 "nbformat": 4,
 "nbformat_minor": 5
}
